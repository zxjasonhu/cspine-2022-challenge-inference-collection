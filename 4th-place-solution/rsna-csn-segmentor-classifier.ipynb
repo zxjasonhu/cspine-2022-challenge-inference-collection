{
 "cells": [
  {
   "cell_type": "code",
   "execution_count": null,
   "id": "c5958aab",
   "metadata": {},
   "outputs": [],
   "source": [
    "### please specify your input path here\n",
    "INPUT_TEST_FILE = \"YOUR_TEST_FILE\" # csv file list locations / paths to test cases (dicom)\n",
    "OUTPUT_FILE = \"YOUR_OUTPUT\" # in csv format"
   ]
  },
  {
   "cell_type": "code",
   "execution_count": 1,
   "id": "e475ea25",
   "metadata": {
    "_cell_guid": "b1076dfc-b9ad-4769-8c92-a6c4dae69d19",
    "_uuid": "8f2839f25d086af736a60e9eeb907d3b93b6e0e5",
    "papermill": {
     "duration": 109.081564,
     "end_time": "2022-11-05T15:34:14.188341",
     "exception": false,
     "start_time": "2022-11-05T15:32:25.106777",
     "status": "completed"
    },
    "tags": []
   },
   "outputs": [],
   "source": [
    "# !pip install /kaggle/input/rsna-2022-whl/{pydicom-2.3.0-py3-none-any.whl,pylibjpeg-1.4.0-py3-none-any.whl,python_gdcm-3.0.15-cp37-cp37m-manylinux_2_17_x86_64.manylinux2014_x86_64.whl}\n",
    "# !pip install /kaggle/input/rsna-2022-whl/{torch-1.12.1-cp37-cp37m-manylinux1_x86_64.whl,torchvision-0.13.1-cp37-cp37m-manylinux1_x86_64.whl}"
   ]
  },
  {
   "cell_type": "code",
   "execution_count": 2,
   "id": "efe73cd0",
   "metadata": {
    "papermill": {
     "duration": 81.259951,
     "end_time": "2022-11-05T15:35:35.454200",
     "exception": false,
     "start_time": "2022-11-05T15:34:14.194249",
     "status": "completed"
    },
    "tags": []
   },
   "outputs": [],
   "source": [
    "# !pip install /kaggle/input/rsna-weights/timm-0.5.4-py3-none-any.whl\n",
    "# !pip install /kaggle/input/rsna-weights/tifffile-2022.8.8-py3-none-any.whl\n",
    "# !pip install /kaggle/input/rsna-weights/einops-0.5.0-py3-none-any.whl\n",
    "#\n"
   ]
  },
  {
   "cell_type": "code",
   "execution_count": 3,
   "id": "f6b002cc",
   "metadata": {
    "ExecuteTime": {
     "end_time": "2023-06-20T20:43:51.953119Z",
     "start_time": "2023-06-20T20:43:51.611743Z"
    },
    "papermill": {
     "duration": 202.223156,
     "end_time": "2022-11-05T15:38:57.697925",
     "exception": false,
     "start_time": "2022-11-05T15:35:35.474769",
     "status": "completed"
    },
    "tags": []
   },
   "outputs": [],
   "source": [
    "import os\n",
    "import pandas as pd\n",
    "# os.listdir('/kaggle/input/mmdetection-2-17-offline')\n",
    "#\n",
    "# !pip install /kaggle/input/mmdetection-2-17-offline/mmcv_full-1.3.14-cp37-cp37m-linux_x86_64.whl --no-deps\n",
    "# !pip install /kaggle/input/mmdetection-2-17-offline/pycocotools-2.0.2-cp37-cp37m-linux_x86_64.whl --no-deps\n",
    "# !pip install /kaggle/input/mmdetection-2-17-offline/terminaltables-3.1.0-py3-none-any.whl --no-deps\n",
    "# !pip install /kaggle/input/mmdetection-2-17-offline/pytest_runner-5.3.1-py3-none-any.whl --no-deps\n",
    "# !pip install /kaggle/input/mmdetection-2-17-offline/mmpycocotools-12.0.3-cp37-cp37m-linux_x86_64.whl --no-deps\n",
    "# !pip install /kaggle/input/mmdetection-2-17-offline/terminal-0.4.0-py3-none-any.whl --no-deps\n",
    "# !pip install /kaggle/input/mmdetection-2-17-offline/mmdet-2.17.0-py3-none-any.whl --no-deps\n",
    "# !pip install /kaggle/input/mmdetection-2-17-offline/addict-2.4.0-py3-none-any.whl --no-deps\n",
    "# !pip install /kaggle/input/mmdetection-2-17-offline/yapf-0.31.0-py2.py3-none-any.whl --no-deps"
   ]
  },
  {
   "cell_type": "code",
   "execution_count": null,
   "id": "45738830",
   "metadata": {
    "ExecuteTime": {
     "end_time": "2023-06-20T20:43:41.505245Z",
     "start_time": "2023-06-20T20:43:30.136068Z"
    },
    "papermill": {
     "duration": 13.121723,
     "end_time": "2022-11-05T15:39:13.730209",
     "exception": false,
     "start_time": "2022-11-05T15:39:00.608486",
     "status": "completed"
    },
    "tags": []
   },
   "outputs": [],
   "source": [
    "from model import MDAIModel\n",
    "\n",
    "pipeline = MDAIModel()"
   ]
  },
  {
   "cell_type": "code",
   "execution_count": null,
   "id": "662a4955",
   "metadata": {
    "ExecuteTime": {
     "end_time": "2023-06-20T20:43:56.357400Z",
     "start_time": "2023-06-20T20:43:56.347478Z"
    },
    "collapsed": false,
    "jupyter": {
     "outputs_hidden": false
    },
    "tags": []
   },
   "outputs": [],
   "source": [
    "df = pd.read_csv(INPUT_TEST_FILE)\n",
    "df.tail()"
   ]
  },
  {
   "cell_type": "code",
   "execution_count": null,
   "id": "a59c4298",
   "metadata": {
    "ExecuteTime": {
     "end_time": "2023-06-20T20:46:29.269829Z",
     "start_time": "2023-06-20T20:43:57.398919Z"
    },
    "collapsed": false,
    "jupyter": {
     "outputs_hidden": false
    },
    "tags": []
   },
   "outputs": [
    {
     "name": "stderr",
     "output_type": "stream",
     "text": [
      "  6%|▌         | 286/5161 [20:34<5:30:46,  4.07s/it]"
     ]
    }
   ],
   "source": [
    "# iterate over rows of df for inference:\n",
    "from tqdm import tqdm\n",
    "output = []\n",
    "for _, row in tqdm(df.iterrows(), total=df.shape[0]):\n",
    "    cube_id = row['StudyInstanceUID']\n",
    "    cube_dir = row['image_folder']\n",
    "    preds = pipeline.predict({\"scan_dir\": cube_dir})[\"prediction\"]\n",
    "    output.append([f\"{cube_id}_patient_overall\", preds[0]])\n",
    "    for i in range(1, 8):\n",
    "        output.append([f\"{cube_id}_C{i}\", preds[i]])"
   ]
  },
  {
   "cell_type": "code",
   "execution_count": null,
   "id": "b7ca6747",
   "metadata": {
    "ExecuteTime": {
     "end_time": "2023-06-20T20:46:29.284762Z",
     "start_time": "2023-06-20T20:46:29.275329Z"
    },
    "papermill": {
     "duration": 0.076949,
     "end_time": "2022-11-05T15:40:27.597873",
     "exception": false,
     "start_time": "2022-11-05T15:40:27.520924",
     "status": "completed"
    },
    "tags": []
   },
   "outputs": [],
   "source": [
    "sub_df = pd.DataFrame(output, columns=[\"row_id\", \"fractured\"])\n",
    "sub_df.to_csv(OUTPUT_FILE, index=False)\n",
    "sub_df.head(50)"
   ]
  },
  {
   "cell_type": "code",
   "execution_count": null,
   "id": "8edded70",
   "metadata": {
    "collapsed": false,
    "jupyter": {
     "outputs_hidden": false
    }
   },
   "outputs": [],
   "source": []
  }
 ],
 "metadata": {
  "kernelspec": {
   "display_name": "cp39env",
   "language": "python",
   "name": "cp39env"
  },
  "language_info": {
   "codemirror_mode": {
    "name": "ipython",
    "version": 3
   },
   "file_extension": ".py",
   "mimetype": "text/x-python",
   "name": "python",
   "nbconvert_exporter": "python",
   "pygments_lexer": "ipython3",
   "version": "3.9.18"
  },
  "papermill": {
   "default_parameters": {},
   "duration": 491.401987,
   "end_time": "2022-11-05T15:40:29.061437",
   "environment_variables": {},
   "exception": null,
   "input_path": "__notebook__.ipynb",
   "output_path": "__notebook__.ipynb",
   "parameters": {},
   "start_time": "2022-11-05T15:32:17.659450",
   "version": "2.3.4"
  }
 },
 "nbformat": 4,
 "nbformat_minor": 5
}
