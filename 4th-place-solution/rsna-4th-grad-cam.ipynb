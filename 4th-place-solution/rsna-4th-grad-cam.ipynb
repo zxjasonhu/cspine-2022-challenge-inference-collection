{
 "cells": [
  {
   "cell_type": "code",
   "execution_count": null,
   "id": "781024c8",
   "metadata": {},
   "outputs": [],
   "source": [
    "### please specify your input path here\n",
    "INPUT_TEST_FILE = \"YOUR_TEST_FILE\" # csv file list locations / paths to test cases (dicom)\n",
    "OUTPUT_FOLDER = \"YOUR_OUTPUT_DIR\" # output directory"
   ]
  },
  {
   "cell_type": "code",
   "execution_count": 1,
   "id": "f6b002cc",
   "metadata": {
    "ExecuteTime": {
     "end_time": "2023-06-20T20:43:51.953119Z",
     "start_time": "2023-06-20T20:43:51.611743Z"
    },
    "papermill": {
     "duration": 202.223156,
     "end_time": "2022-11-05T15:38:57.697925",
     "exception": false,
     "start_time": "2022-11-05T15:35:35.474769",
     "status": "completed"
    },
    "tags": []
   },
   "outputs": [],
   "source": [
    "import os\n",
    "import pandas as pd\n",
    "os.environ[\"CUDA_DEVICE_ORDER\"] = \"PCI_BUS_ID\"\n",
    "os.environ[\"CUDA_VISIBLE_DEVICES\"] = \"0\"\n",
    "# os.listdir('/kaggle/input/mmdetection-2-17-offline')\n",
    "#\n",
    "# !pip install /kaggle/input/mmdetection-2-17-offline/mmcv_full-1.3.14-cp37-cp37m-linux_x86_64.whl --no-deps\n",
    "# !pip install /kaggle/input/mmdetection-2-17-offline/pycocotools-2.0.2-cp37-cp37m-linux_x86_64.whl --no-deps\n",
    "# !pip install /kaggle/input/mmdetection-2-17-offline/terminaltables-3.1.0-py3-none-any.whl --no-deps\n",
    "# !pip install /kaggle/input/mmdetection-2-17-offline/pytest_runner-5.3.1-py3-none-any.whl --no-deps\n",
    "# !pip install /kaggle/input/mmdetection-2-17-offline/mmpycocotools-12.0.3-cp37-cp37m-linux_x86_64.whl --no-deps\n",
    "# !pip install /kaggle/input/mmdetection-2-17-offline/terminal-0.4.0-py3-none-any.whl --no-deps\n",
    "# !pip install /kaggle/input/mmdetection-2-17-offline/mmdet-2.17.0-py3-none-any.whl --no-deps\n",
    "# !pip install /kaggle/input/mmdetection-2-17-offline/addict-2.4.0-py3-none-any.whl --no-deps\n",
    "# !pip install /kaggle/input/mmdetection-2-17-offline/yapf-0.31.0-py2.py3-none-any.whl --no-deps"
   ]
  },
  {
   "cell_type": "code",
   "execution_count": 2,
   "id": "92b9664e-e40c-47f4-9b4c-a2012477a2d0",
   "metadata": {
    "tags": []
   },
   "outputs": [],
   "source": [
    "%load_ext autoreload\n",
    "%autoreload 2"
   ]
  },
  {
   "cell_type": "code",
   "execution_count": null,
   "id": "45738830",
   "metadata": {
    "ExecuteTime": {
     "end_time": "2023-06-20T20:43:41.505245Z",
     "start_time": "2023-06-20T20:43:30.136068Z"
    },
    "papermill": {
     "duration": 13.121723,
     "end_time": "2022-11-05T15:39:13.730209",
     "exception": false,
     "start_time": "2022-11-05T15:39:00.608486",
     "status": "completed"
    },
    "tags": []
   },
   "outputs": [],
   "source": [
    "from model_cam import MDAIModel\n",
    "\n",
    "pipeline = MDAIModel()"
   ]
  },
  {
   "cell_type": "code",
   "execution_count": 5,
   "id": "6e32779c-3ba7-475d-a22f-15a4cc797b62",
   "metadata": {
    "tags": []
   },
   "outputs": [
    {
     "name": "stdout",
     "output_type": "stream",
     "text": [
      "(102, 3)\n"
     ]
    }
   ],
   "source": [
    "df = pd.read_csv(INPUT_TEST_FILE)\n",
    "print(df.shape)"
   ]
  },
  {
   "cell_type": "code",
   "execution_count": 6,
   "id": "7cf68d6d-a767-4d99-a391-182909b667ab",
   "metadata": {
    "tags": []
   },
   "outputs": [],
   "source": [
    "import cv2\n",
    "import numpy as np\n",
    "\n",
    "output_folder = OUTPUT_FOLDER\n",
    "if not os.path.exists(output_folder):\n",
    "    os.makedirs(output_folder)"
   ]
  },
  {
   "cell_type": "code",
   "execution_count": 7,
   "id": "88ca1564-0d72-4a07-92a9-b01e529ae1d6",
   "metadata": {
    "tags": []
   },
   "outputs": [],
   "source": [
    "import SimpleITK as sitk\n",
    "import warnings\n",
    "\n",
    "def read_from_DICOM_dir(DICOM_dir, dtype=sitk.sitkInt16):\n",
    "    reader = sitk.ImageSeriesReader()\n",
    "    list_series_ids = reader.GetGDCMSeriesIDs(DICOM_dir)\n",
    "\n",
    "    sum_series = len(list_series_ids)\n",
    "    if sum_series > 1:\n",
    "        warnings.warn('Multiple series ids in this dir, only read one series')\n",
    "\n",
    "    series_uid = list_series_ids[0]\n",
    "    file_names = reader.GetGDCMSeriesFileNames(DICOM_dir, series_uid)\n",
    "    image_nii = sitk.ReadImage(file_names, dtype)\n",
    "\n",
    "    return image_nii"
   ]
  },
  {
   "cell_type": "code",
   "execution_count": 8,
   "id": "0b30f1e6-0020-48ce-a87e-beb1b9206cac",
   "metadata": {
    "tags": []
   },
   "outputs": [],
   "source": [
    "def cam_to_voxel_space(cam: np.ndarray, voxel:np.ndarray) -> np.ndarray:\n",
    "    length, h, w = voxel.shape\n",
    "    \n",
    "    grayscale_cam_resized = np.zeros((length, h, w))\n",
    "    cam_length = cam.shape[0]\n",
    "    frame_interval = cam_length / length\n",
    "    max_index = cam_length - 1\n",
    "    \n",
    "    offset_index = int((length - max_index * length / cam_length) / 2)\n",
    "    \n",
    "    for i in range(offset_index):\n",
    "        grayscale_cam_resized[i] = cv2.resize(cam[0], (w, h)) * (0.5 + 0.5 * i / offset_index)\n",
    "        grayscale_cam_resized[length - i - 1] = cv2.resize(cam[0], (w, h)) * (0.5 + 0.5 * i / offset_index)\n",
    "        \n",
    "    for j in range(offset_index, length - offset_index):\n",
    "        # Find the indices of the original frames that we'll interpolate between\n",
    "        ind = j - offset_index\n",
    "        idx1 = int(ind * frame_interval)\n",
    "        idx2 = min(idx1 + 1, max_index)\n",
    "\n",
    "        # Find the interpolation weight\n",
    "        alpha = (ind * frame_interval) - idx1\n",
    "\n",
    "        # Interpolate between the original frames\n",
    "        cam1 = cv2.resize(cam[idx1], (w, h))\n",
    "        cam2 = cv2.resize(cam[idx2], (w, h))\n",
    "        grayscale_cam_resized[j] = cv2.addWeighted(cam1, 1 - alpha, cam2, alpha, 0)\n",
    "\n",
    "    return grayscale_cam_resized"
   ]
  },
  {
   "cell_type": "code",
   "execution_count": null,
   "id": "a59c4298",
   "metadata": {
    "ExecuteTime": {
     "end_time": "2023-06-20T20:46:29.269829Z",
     "start_time": "2023-06-20T20:43:57.398919Z"
    },
    "collapsed": false,
    "jupyter": {
     "outputs_hidden": false
    },
    "tags": []
   },
   "outputs": [],
   "source": [
    "# iterate over rows of df for inference:\n",
    "from tqdm import tqdm\n",
    "output = []\n",
    "idx = 0\n",
    "for _, row in tqdm(df.iterrows(), total=df.shape[0]):\n",
    "    # if idx < 36:\n",
    "    #     idx += 1\n",
    "    #     continue\n",
    "    cube_id = row['StudyInstanceUID']\n",
    "    cube_dir = row['image_folder']\n",
    "    cam_ = pipeline.explain_gradcam({\"scan_dir\": cube_dir})\n",
    "    img = sitk.GetArrayFromImage(read_from_DICOM_dir(cube_dir))\n",
    "    cam_ = cam_to_voxel_space(cam_, img)\n",
    "        \n",
    "    # Define the file path for saving\n",
    "    save_path = os.path.join(output_folder, f\"{cube_id}.npy\")\n",
    "\n",
    "    # Save the resized_cam as a .npy file\n",
    "    np.save(save_path, cam_)"
   ]
  },
  {
   "cell_type": "code",
   "execution_count": null,
   "id": "908bb7a4-9527-4469-9e69-0e360f2e019e",
   "metadata": {},
   "outputs": [],
   "source": []
  }
 ],
 "metadata": {
  "kernelspec": {
   "display_name": "cp39env",
   "language": "python",
   "name": "cp39env"
  },
  "language_info": {
   "codemirror_mode": {
    "name": "ipython",
    "version": 3
   },
   "file_extension": ".py",
   "mimetype": "text/x-python",
   "name": "python",
   "nbconvert_exporter": "python",
   "pygments_lexer": "ipython3",
   "version": "3.9.18"
  },
  "papermill": {
   "default_parameters": {},
   "duration": 491.401987,
   "end_time": "2022-11-05T15:40:29.061437",
   "environment_variables": {},
   "exception": null,
   "input_path": "__notebook__.ipynb",
   "output_path": "__notebook__.ipynb",
   "parameters": {},
   "start_time": "2022-11-05T15:32:17.659450",
   "version": "2.3.4"
  }
 },
 "nbformat": 4,
 "nbformat_minor": 5
}
