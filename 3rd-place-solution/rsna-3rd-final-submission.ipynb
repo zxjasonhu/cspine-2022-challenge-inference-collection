{
 "cells": [
  {
   "cell_type": "code",
   "execution_count": null,
   "id": "e4ce67bd",
   "metadata": {},
   "outputs": [],
   "source": [
    "### please specify your input path here\n",
    "PROJECT_FOLDER = \"YOUR_PROJECT_FOLDER\" # parent folder of the input images\n",
    "IMAGE_DATA_FOLDER = PROJECT_FOLDER + \"images/\" # folder of the input images\n",
    "INPUT_TEST_CSV_FILE = \"YOUR_TEST_FILE\" # csv file list locations / paths to test cases (dicom)\n",
    "OUTPUT_FILE = \"YOUR_OUTPUT\" # in csv format"
   ]
  },
  {
   "cell_type": "code",
   "execution_count": null,
   "id": "a4daf4c6",
   "metadata": {
    "papermill": {
     "duration": 3.402221,
     "end_time": "2022-10-26T14:12:41.408086",
     "exception": false,
     "start_time": "2022-10-26T14:12:38.005865",
     "status": "completed"
    },
    "tags": []
   },
   "outputs": [],
   "source": [
    "import numpy as np\n",
    "import pandas as pd\n",
    "import scipy as sp\n",
    "import os\n",
    "import json\n",
    "import sys\n",
    "import importlib\n",
    "import multiprocessing as mp\n",
    "import gc\n",
    "from tqdm.auto import tqdm\n",
    "import glob\n",
    "import torch\n",
    "from copy import copy\n",
    "from torch.cuda.amp import GradScaler, autocast\n",
    "from torch.utils.data import DataLoader\n",
    "import timm\n",
    "import pylibjpeg\n",
    "import pydicom\n",
    "from PIL import Image\n",
    "import re\n",
    "os.environ[\"CUDA_DEVICE_ORDER\"] = \"PCI_BUS_ID\"\n",
    "os.environ[\"CUDA_VISIBLE_DEVICES\"] = \"0\"\n",
    "gc.collect()"
   ]
  },
  {
   "cell_type": "code",
   "execution_count": 5,
   "id": "5249199d-27e1-431a-afa9-b2b5acf7a193",
   "metadata": {
    "tags": []
   },
   "outputs": [
    {
     "data": {
      "text/plain": [
       "'1.3.5'"
      ]
     },
     "execution_count": 5,
     "metadata": {},
     "output_type": "execute_result"
    }
   ],
   "source": [
    "pd.__version__ # please use 1.3.5. One operation is not supported in later versions."
   ]
  },
  {
   "cell_type": "code",
   "execution_count": 6,
   "id": "5a599561",
   "metadata": {
    "papermill": {
     "duration": 0.017027,
     "end_time": "2022-10-26T14:12:41.433791",
     "exception": false,
     "start_time": "2022-10-26T14:12:41.416764",
     "status": "completed"
    },
    "tags": []
   },
   "outputs": [],
   "source": [
    "torch.backends.cudnn.benchmark = True\n",
    "\n",
    "sys.path.append('./configs')\n",
    "sys.path.append('./data')\n",
    "sys.path.append('./models')\n",
    "sys.path.append('./postprocess')\n",
    "sys.path.append('./github-rsna2022')"
   ]
  },
  {
   "cell_type": "code",
   "execution_count": 7,
   "id": "d3c4ed40",
   "metadata": {
    "papermill": {
     "duration": 0.521081,
     "end_time": "2022-10-26T14:12:41.988387",
     "exception": false,
     "start_time": "2022-10-26T14:12:41.467306",
     "status": "completed"
    },
    "tags": []
   },
   "outputs": [
    {
     "name": "stdout",
     "output_type": "stream",
     "text": [
      "(5161, 3)\n",
      "(1662687, 4)\n"
     ]
    },
    {
     "data": {
      "text/plain": [
       "0"
      ]
     },
     "execution_count": 7,
     "metadata": {},
     "output_type": "execute_result"
    }
   ],
   "source": [
    "COMP_FOLDER = PROJECT_FOLDER\n",
    "DATA_FOLDER = IMAGE_DATA_FOLDER\n",
    "META_DF = INPUT_TEST_CSV_FILE\n",
    "\n",
    "test_df = pd.read_csv(INPUT_TEST_CSV_FILE)#.iloc[:1]\n",
    "\n",
    "keycols = 'StudyInstanceUID slice_number'.split()\n",
    "\n",
    "entries = []\n",
    "for key, row in test_df.iterrows():\n",
    "    image_index = [int(re.findall(r'(\\d+).d', i)[0]) for i in glob.glob(row['image_folder']+'/*')]\n",
    "    for im_i in image_index:\n",
    "        entries.append([row['StudyInstanceUID'], row['image_folder'], im_i])\n",
    "    # break # for debug use!\n",
    "    \n",
    "\n",
    "df = pd.DataFrame(entries, columns = ['StudyInstanceUID', 'image_folder', 'slice_number'])\n",
    "df['slice_number'] = df['slice_number'].astype(int)\n",
    "df = df.sort_values(keycols).reset_index(drop = True)\n",
    "\n",
    "N_CORES = mp.cpu_count()\n",
    "MIXED_PRECISION = False\n",
    "PIN_MEMORY = True\n",
    "DL_PREFETCH_FACTOR = 1\n",
    "NUM_SLICES_PER_UID_BBOX = 600\n",
    "\n",
    "FOLD = 3\n",
    "MAX_FOLDS = 99\n",
    "\n",
    "DEVICE = 'cuda' if torch.cuda.is_available() else 'cpu'\n",
    "\n",
    "df['StudyInstanceUID'] = df.StudyInstanceUID.astype('category')\n",
    "df['fold'] = -1\n",
    "\n",
    "print(test_df.shape)\n",
    "print(df.shape)\n",
    "gc.collect()"
   ]
  },
  {
   "cell_type": "code",
   "execution_count": 8,
   "id": "6014b768",
   "metadata": {
    "papermill": {
     "duration": 3.084266,
     "end_time": "2022-10-26T14:12:45.081117",
     "exception": false,
     "start_time": "2022-10-26T14:12:41.996851",
     "status": "completed"
    },
    "tags": []
   },
   "outputs": [],
   "source": [
    "device = torch.device('cuda' if torch.cuda.is_available() else 'cpu')\n",
    "# change it to nn.BCELoss(reduction='none') if you have sigmoid activation in last layer\n",
    "loss_fn = torch.nn.BCELoss(reduction=\"none\") \n",
    "competition_weights = {\n",
    "    '-' : torch.tensor([7, 1, 1, 1, 1, 1, 1, 1], dtype=torch.float, device=device),\n",
    "    '+' : torch.tensor([14, 2, 2, 2, 2, 2, 2, 2], dtype=torch.float, device=device),\n",
    "}"
   ]
  },
  {
   "cell_type": "code",
   "execution_count": 9,
   "id": "345f8ca4",
   "metadata": {
    "papermill": {
     "duration": 0.029455,
     "end_time": "2022-10-26T14:12:45.119618",
     "exception": false,
     "start_time": "2022-10-26T14:12:45.090163",
     "status": "completed"
    },
    "tags": []
   },
   "outputs": [],
   "source": [
    "def get_cfg(CFG):\n",
    "    cfg = importlib.import_module('default_config')\n",
    "    importlib.reload(cfg)\n",
    "    cfg = importlib.import_module(CFG)\n",
    "    importlib.reload(cfg)\n",
    "    cfg = copy(cfg.cfg)\n",
    "    cfg.post_process_pipeline = importlib.import_module(cfg.post_process_pipeline).post_process_pipeline\n",
    "\n",
    "    cfg.data_dir = COMP_FOLDER\n",
    "    cfg.test_data_folder = DATA_FOLDER\n",
    "    cfg.mixed_precision = MIXED_PRECISION\n",
    "    cfg.pretrained = False\n",
    "    cfg.pretrained_weights = False\n",
    "    cfg.batch_size = cfg.batch_size\n",
    "    cfg.offline_inference = True\n",
    "\n",
    "    print(CFG, cfg.model, cfg.dataset, cfg.backbone, cfg.pretrained_weights, cfg.post_process_pipeline)\n",
    "    \n",
    "    return cfg\n",
    "\n",
    "def get_dl(cfg):\n",
    "    ds = importlib.import_module(cfg.dataset)\n",
    "    importlib.reload(ds)\n",
    "\n",
    "    CustomDataset = ds.CustomDataset\n",
    "    batch_to_device = ds.batch_to_device\n",
    "\n",
    "    test_ds = CustomDataset(df, cfg, cfg.val_aug, mode=\"test\")\n",
    "    test_dl = DataLoader(test_ds, shuffle=False, batch_size=cfg.batch_size, collate_fn=ds.val_collate_fn, num_workers=N_CORES, pin_memory=PIN_MEMORY, prefetch_factor = DL_PREFETCH_FACTOR)\n",
    "\n",
    "    return test_dl, batch_to_device\n",
    "\n",
    "def get_bb_dl(cfg, bbdf):\n",
    "    ds = importlib.import_module(cfg.dataset)\n",
    "    importlib.reload(ds)\n",
    "\n",
    "    CustomDataset = ds.CustomDataset\n",
    "    batch_to_device = ds.batch_to_device\n",
    "\n",
    "    test_ds = CustomDataset(bbdf, cfg, cfg.val_aug, mode=\"test\")\n",
    "    test_dl = DataLoader(test_ds, shuffle=False, batch_size=cfg.batch_size, collate_fn=ds.val_collate_fn, num_workers=N_CORES, pin_memory=PIN_MEMORY, prefetch_factor = DL_PREFETCH_FACTOR)\n",
    "\n",
    "    return test_dl, batch_to_device\n",
    "\n",
    "def get_state_dict(sd_fp):\n",
    "    sd = torch.load(sd_fp, map_location=\"cpu\")\n",
    "    sd = {k.replace(\"module.\", \"\"):v for k,v in sd.items()}\n",
    "    return sd\n",
    "\n",
    "def get_nets(cfg,state_dicts,test_ds):\n",
    "    model = importlib.import_module(cfg.model)\n",
    "    importlib.reload(model)\n",
    "    Net = model.Net\n",
    "\n",
    "    nets = []\n",
    "\n",
    "    for i,state_dict in enumerate(state_dicts):\n",
    "        net = Net(cfg).eval().to(DEVICE)\n",
    "        print(\"loading dict\")\n",
    "        sd = get_state_dict(state_dict)\n",
    "        if \"model\" in sd.keys():\n",
    "            sd = sd[\"model\"]\n",
    "        net.load_state_dict(sd, strict=True)\n",
    "        nets += [net.half()]\n",
    "        del sd\n",
    "        gc.collect()\n",
    "    return nets\n",
    "\n",
    "def competiton_loss_row_norm(y_hat, y):\n",
    "    loss = loss_fn(y_hat, y)\n",
    "    weights = y * competition_weights['+'] + (1 - y) * competition_weights['-']\n",
    "    loss = (loss * weights).sum(axis=1)\n",
    "    w_sum = weights.sum(axis=1)\n",
    "    loss = torch.div(loss, w_sum)\n",
    "    return loss.mean().item()\n",
    "\n",
    "def window_range(g, thresh = 0.1, window = 5, min_periods=3, center=True):\n",
    "    bbseqprobas = g.has_bbox.rolling(window, min_periods=min_periods, center=center).mean()\n",
    "    if bbseqprobas.max() <= thresh:\n",
    "        sn_from, sn_to = g.slice_numbers.iloc[[0,-1]]\n",
    "        return [sn_from, sn_to]\n",
    "    bb_range = np.where(bbseqprobas > thresh)[0]\n",
    "    sn_from = g.slice_numbers.iloc[bb_range[0]]\n",
    "    sn_to = g.slice_numbers.iloc[bb_range[-1]]\n",
    "    return [sn_from, sn_to]"
   ]
  },
  {
   "cell_type": "code",
   "execution_count": 10,
   "id": "1e225a04",
   "metadata": {
    "papermill": {
     "duration": 0.016674,
     "end_time": "2022-10-26T14:12:45.144684",
     "exception": false,
     "start_time": "2022-10-26T14:12:45.128010",
     "status": "completed"
    },
    "tags": []
   },
   "outputs": [],
   "source": [
    "bbdf = df.copy()"
   ]
  },
  {
   "cell_type": "code",
   "execution_count": null,
   "id": "34d05472",
   "metadata": {
    "papermill": {
     "duration": 11.14781,
     "end_time": "2022-10-26T14:12:56.316932",
     "exception": false,
     "start_time": "2022-10-26T14:12:45.169122",
     "status": "completed"
    },
    "tags": []
   },
   "outputs": [],
   "source": [
    "name = 'cfg_loc_dh_01B'\n",
    "\n",
    "cfg = get_cfg(name)\n",
    "cfg.meta_df = META_DF\n",
    "cfg.data_folder = DATA_FOLDER\n",
    "cfg.verify_sample = False\n",
    "cfg.load_jpg = False\n",
    "cfg.batch_size = 8\n",
    "cfg.drop_scans = []\n",
    "test_dl, batch_to_device = get_bb_dl(cfg, bbdf)\n",
    "state_dict_fps = sorted(glob.glob('./weights-cfg-loc-dh-01b-all-fold-1/fold*check*'))[:MAX_FOLDS]\n",
    "print('\\n'.join(state_dict_fps))\n",
    "nets = get_nets(cfg,state_dict_fps, test_dl.dataset)"
   ]
  },
  {
   "cell_type": "code",
   "execution_count": null,
   "id": "dbb5c4d0",
   "metadata": {
    "papermill": {
     "duration": 33.703847,
     "end_time": "2022-10-26T14:13:30.029889",
     "exception": false,
     "start_time": "2022-10-26T14:12:56.326042",
     "status": "completed"
    },
    "tags": []
   },
   "outputs": [
    {
     "name": "stderr",
     "output_type": "stream",
     "text": [
      " 27%|██▋       | 18484/69067 [37:10<1:09:45, 12.09it/s] "
     ]
    }
   ],
   "source": [
    "val_data = {}\n",
    "preds = []\n",
    "uids = []\n",
    "slices = []\n",
    "#ids = []\n",
    "with torch.inference_mode():\n",
    "    for tt, batch in tqdm(enumerate(test_dl), total = len(test_dl)):\n",
    "        batch = batch_to_device(batch,DEVICE)\n",
    "        batch['image'] = batch['image'].half()\n",
    "        outs = [net(batch) for net in nets]\n",
    "        preds += [torch.stack([out['preds'] for out in outs], dim=0).cpu().mean(0)]\n",
    "        uids +=  [outs[0]['StudyUID'].cpu()]\n",
    "        slices += [outs[0]['slice_numbers'].cpu()]\n",
    "        if tt % 5 == 0:\n",
    "            gc.collect()\n",
    "            torch.cuda.empty_cache()\n",
    "            \n",
    "        #ids += batch['StudyUID'].cpu()\n",
    "preds = torch.cat(preds, dim=0)\n",
    "uids = torch.cat(uids, dim=0)\n",
    "slices = torch.cat(slices, dim=0)\n"
   ]
  },
  {
   "cell_type": "code",
   "execution_count": null,
   "id": "5311faaf",
   "metadata": {
    "papermill": {
     "duration": 0.023296,
     "end_time": "2022-10-26T14:13:30.062415",
     "exception": false,
     "start_time": "2022-10-26T14:13:30.039119",
     "status": "completed"
    },
    "tags": []
   },
   "outputs": [],
   "source": [
    "predbbdf = pd.DataFrame(preds.float().clip(0, 1).numpy(), columns = 'x0 y0 x1 y1 has_bbox'.split())\n",
    "predbbdf['uid'] = uids.numpy()\n",
    "predbbdf['slice_numbers'] = slices.numpy()[:,1]\n",
    "predbbdf['slice_numbers_all'] = slices.numpy().tolist()\n",
    "predbbdf['StudyInstanceUID'] = test_dl.dataset.df.loc[test_dl.dataset.ids]['StudyInstanceUID'].values\n",
    "predbbdf['StudyInstanceUID'] = predbbdf['StudyInstanceUID'].astype('category')"
   ]
  },
  {
   "cell_type": "code",
   "execution_count": null,
   "id": "1555b477",
   "metadata": {
    "papermill": {
     "duration": 0.381685,
     "end_time": "2022-10-26T14:13:30.452523",
     "exception": false,
     "start_time": "2022-10-26T14:13:30.070838",
     "status": "completed"
    },
    "tags": []
   },
   "outputs": [],
   "source": [
    "allpreddf = predbbdf\n",
    "allpreddf = allpreddf.explode('slice_numbers_all')\n",
    "allpreddf['slice_numbers'] = allpreddf['slice_numbers_all']\n",
    "allpreddf = allpreddf.set_index('StudyInstanceUID').drop(['slice_numbers_all', 'uid'], axis=1)\n",
    "\n",
    "allpreddf.to_csv('train_bbox_all_pred_v02.csv')\n",
    "\n",
    "# Hack for studies with no bounding box > 0.5.... - just put in a dummy box and let it go thru the pipeline\n",
    "predbbdf['max_has_bbox'] = predbbdf.groupby('StudyInstanceUID')['has_bbox'].transform(max)\n",
    "predbbdf.loc[predbbdf.max_has_bbox<0.5, 'x0 y0'.split()] = 0.2\n",
    "predbbdf.loc[predbbdf.max_has_bbox<0.5, 'x1 y1'.split()] = 0.8\n",
    "predbbdf.loc[predbbdf.max_has_bbox<0.5, 'has_bbox'.split()] = 0.51\n",
    "predbbdf = predbbdf.drop('max_has_bbox', axis=1)\n",
    "\n",
    "bbpreddf = pd.concat([ \\\n",
    "    predbbdf.query('has_bbox > 0.5').groupby('StudyInstanceUID')['x0 y0'.split()].apply(min),\n",
    "    predbbdf.query('has_bbox > 0.5').groupby('StudyInstanceUID')['x1 y1'.split()].apply(max)], axis=1)\n",
    "\n",
    "wrls = predbbdf.groupby('StudyInstanceUID').apply(window_range)\n",
    "wrdf = pd.DataFrame(wrls.tolist(), index = wrls.index, columns = 'slnum_from slnum_to'.split())\n",
    "bbpreddf['slnum_from slnum_to'.split()] = wrdf.loc[bbpreddf.index]\n",
    "bbpreddf['slnum_max'] = predbbdf.groupby('StudyInstanceUID')['slice_numbers'].max().loc[bbpreddf.index]\n",
    "\n",
    "bbpreddf.iloc[:,:2] = np.floor((bbpreddf.iloc[:,:2] * 512)).astype(int).clip(0, 512)\n",
    "bbpreddf.iloc[:,2:4] = np.ceil((bbpreddf.iloc[:,2:4] * 512)).astype(int).clip(0, 512)\n",
    "bbpreddf.to_csv('train_bbox_pred_v01.csv')\n",
    "\n",
    "((bbpreddf.slnum_to - bbpreddf.slnum_from) / bbpreddf.slnum_max).hist(bins = 50 )"
   ]
  },
  {
   "cell_type": "code",
   "execution_count": null,
   "id": "da64f21e",
   "metadata": {
    "papermill": {
     "duration": 0.269595,
     "end_time": "2022-10-26T14:13:30.731399",
     "exception": false,
     "start_time": "2022-10-26T14:13:30.461804",
     "status": "completed"
    },
    "tags": []
   },
   "outputs": [],
   "source": [
    "del test_dl, nets, preds, uids, slices, predbbdf, bbpreddf, allpreddf\n",
    "gc.collect()\n",
    "torch.cuda.empty_cache()"
   ]
  },
  {
   "cell_type": "code",
   "execution_count": null,
   "id": "1cd73b52",
   "metadata": {
    "papermill": {
     "duration": 1.002874,
     "end_time": "2022-10-26T14:13:31.743687",
     "exception": false,
     "start_time": "2022-10-26T14:13:30.740813",
     "status": "completed"
    },
    "tags": []
   },
   "outputs": [],
   "source": [
    "!head train_bbox_pred_v01.csv"
   ]
  },
  {
   "cell_type": "code",
   "execution_count": null,
   "id": "3fed29b5",
   "metadata": {
    "papermill": {
     "duration": 1.003398,
     "end_time": "2022-10-26T14:13:32.756179",
     "exception": false,
     "start_time": "2022-10-26T14:13:31.752781",
     "status": "completed"
    },
    "tags": []
   },
   "outputs": [],
   "source": [
    "!head train_bbox_all_pred_v02.csv"
   ]
  },
  {
   "cell_type": "code",
   "execution_count": null,
   "id": "091349cb",
   "metadata": {
    "papermill": {
     "duration": 20.418389,
     "end_time": "2022-10-26T14:13:53.201675",
     "exception": false,
     "start_time": "2022-10-26T14:13:32.783286",
     "status": "completed"
    },
    "tags": []
   },
   "outputs": [],
   "source": [
    "name = 'cfg_dh_fracseq_04F_crop3_gx1'\n",
    "\n",
    "cfg = get_cfg(name)\n",
    "cfg.meta_df = META_DF\n",
    "cfg.data_folder = DATA_FOLDER\n",
    "cfg.verify_sample = False\n",
    "cfg.load_jpg = False\n",
    "cfg.cnn_chunk_size = 32\n",
    "cfg.bbox_df = 'train_bbox_pred_v01.csv'  #. f'{cfg.data_dir}/train_bbox_pred_v02.csv.gz'\n",
    "cfg.bboxall_df = 'train_bbox_all_pred_v02.csv' # f'{cfg.data_dir}/train_bbox_all_pred_v02.csv.gz'\n",
    "# cfg.bbox_df = 'train_bbox_pred_v01.csv'\n",
    "# cfg.bbox_df = 'train_bbox_all_pred_v02.csv'\n",
    "\n",
    "cfg.batch_size=1\n",
    "#cfg.dataset = \"ds_dh_fracseg_3F_crop_infer\"\n",
    "cfg.norm_on_cuda=True\n",
    "test_dl, batch_to_device = get_dl(cfg)\n",
    "test_dl.dataset.norm_mean = test_dl.dataset.norm_mean.to(DEVICE)#.half()\n",
    "test_dl.dataset.norm_std = test_dl.dataset.norm_std.to(DEVICE)#.half()\n",
    "#test_dl.dataset.df[cfg.target_seg] = 0.\n",
    "#test_dl.dataset.df[cfg.target_frac] = 0.\n",
    "test_dl.dataset.metadf = pd.DataFrame({'StudyInstanceUID': \\\n",
    "                                       test_dl.dataset.df.index.unique()}).set_index('StudyInstanceUID')\n",
    "test_dl.dataset.metadf[['patient_overall'] + cfg.target] = 0.\n",
    "#test_dl.dataset.metadf\n",
    "\n",
    "state_dict_fps = sorted(glob.glob('./weights-cfg-dh-fracseq-04f-crop3-gx1-4f3ff/fold-1*check*'))\n",
    "state_dict_fps = state_dict_fps[:MAX_FOLDS]\n",
    "\n",
    "print('\\n'.join(state_dict_fps))\n",
    "nets = get_nets(cfg,state_dict_fps, test_dl.dataset)"
   ]
  },
  {
   "cell_type": "code",
   "execution_count": null,
   "id": "5ad55bf9",
   "metadata": {
    "papermill": {
     "duration": 19.565748,
     "end_time": "2022-10-26T14:14:12.778537",
     "exception": false,
     "start_time": "2022-10-26T14:13:53.212789",
     "status": "completed"
    },
    "tags": []
   },
   "outputs": [],
   "source": [
    "vaacoshl_data = {}\n",
    "preds = []\n",
    "#ids = []\n",
    "with torch.inference_mode():\n",
    "    for tt, batch in tqdm(enumerate(test_dl), total = len(test_dl)):\n",
    "        batch = batch_to_device(batch,DEVICE)\n",
    "        batch['image'] = test_dl.dataset.norm4d( batch['image'] )\n",
    "        #batch['image'] = batch['image'].half()\n",
    "        outs = [net(batch) for net in nets]\n",
    "        preds += [torch.sigmoid(torch.stack([out['logits'] for out in outs], dim=0)).cpu().mean(0)]\n",
    "        if tt % 10 == 0:\n",
    "            gc.collect()\n",
    "            torch.cuda.empty_cache()\n",
    "ids = test_dl.dataset.ids\n",
    "preds = torch.cat(preds, dim=0).float()\n",
    "del test_dl, nets\n",
    "gc.collect()\n",
    "torch.cuda.empty_cache()"
   ]
  },
  {
   "cell_type": "code",
   "execution_count": null,
   "id": "4a2b8382",
   "metadata": {
    "papermill": {
     "duration": 0.06979,
     "end_time": "2022-10-26T14:14:12.886755",
     "exception": false,
     "start_time": "2022-10-26T14:14:12.816965",
     "status": "completed"
    },
    "tags": []
   },
   "outputs": [],
   "source": [
    "preddf = pd.DataFrame(preds.numpy(), columns = ['patient_overall'] + cfg.target)\n",
    "preddf['StudyInstanceUID'] = ids\n",
    "preddf = preddf.set_index('StudyInstanceUID')\n",
    "preddf.head()"
   ]
  },
  {
   "cell_type": "code",
   "execution_count": null,
   "id": "fe7eac0d",
   "metadata": {
    "papermill": {
     "duration": 0.048715,
     "end_time": "2022-10-26T14:14:12.976373",
     "exception": false,
     "start_time": "2022-10-26T14:14:12.927658",
     "status": "completed"
    },
    "tags": []
   },
   "outputs": [],
   "source": [
    "preddfls = [preddf]"
   ]
  },
  {
   "cell_type": "code",
   "execution_count": null,
   "id": "97b79c2b",
   "metadata": {
    "papermill": {
     "duration": 14.764111,
     "end_time": "2022-10-26T14:14:27.797174",
     "exception": false,
     "start_time": "2022-10-26T14:14:13.033063",
     "status": "completed"
    },
    "tags": []
   },
   "outputs": [],
   "source": [
    "name = 'cfg_dh_fracseq_04F_crop_gx1'\n",
    "\n",
    "cfg = get_cfg(name)\n",
    "cfg.meta_df = META_DF\n",
    "cfg.data_folder = DATA_FOLDER\n",
    "cfg.verify_sample = False\n",
    "cfg.load_jpg = False\n",
    "cfg.cnn_chunk_size = 32\n",
    "cfg.bbox_df = 'train_bbox_pred_v01.csv'\n",
    "cfg.batch_size=1\n",
    "cfg.norm_on_cuda=True\n",
    "test_dl, batch_to_device = get_dl(cfg)\n",
    "test_dl.dataset.norm_mean = test_dl.dataset.norm_mean.to(DEVICE)\n",
    "test_dl.dataset.norm_std = test_dl.dataset.norm_std.to(DEVICE)\n",
    "test_dl.dataset.metadf = pd.DataFrame({'StudyInstanceUID': \\\n",
    "                                       test_dl.dataset.df.index.unique()}).set_index('StudyInstanceUID')\n",
    "test_dl.dataset.metadf[['patient_overall'] + cfg.target] = 0.\n",
    "\n",
    "state_dict_fps = sorted(glob.glob('./weights-cfg-dh-fracseq-04f-crop-gx1-6ff/fold-1*check*'))\n",
    "state_dict_fps = state_dict_fps[:MAX_FOLDS]\n",
    "\n",
    "print('\\n'.join(state_dict_fps))\n",
    "nets = get_nets(cfg,state_dict_fps, test_dl.dataset)"
   ]
  },
  {
   "cell_type": "code",
   "execution_count": null,
   "id": "d5cbe6d7",
   "metadata": {
    "papermill": {
     "duration": 14.399551,
     "end_time": "2022-10-26T14:14:42.206983",
     "exception": false,
     "start_time": "2022-10-26T14:14:27.807432",
     "status": "completed"
    },
    "tags": []
   },
   "outputs": [],
   "source": [
    "name = 'cfg_dh_fracseq_04F_crop_gx2'\n",
    "\n",
    "cfg = get_cfg(name)\n",
    "cfg.meta_df = META_DF\n",
    "cfg.data_folder = DATA_FOLDER\n",
    "cfg.verify_sample = False\n",
    "cfg.load_jpg = False\n",
    "cfg.cnn_chunk_size = 32\n",
    "cfg.bbox_df = 'train_bbox_pred_v01.csv'\n",
    "cfg.batch_size=1\n",
    "#cfg.dataset = \"ds_dh_fracseg_3F_crop_infer\"\n",
    "cfg.norm_on_cuda=True\n",
    "test_dl, batch_to_device = get_dl(cfg)\n",
    "test_dl.dataset.norm_mean = test_dl.dataset.norm_mean.to(DEVICE)#.half()\n",
    "test_dl.dataset.norm_std = test_dl.dataset.norm_std.to(DEVICE)#.half()\n",
    "#test_dl.dataset.df[cfg.target_seg] = 0.\n",
    "#test_dl.dataset.df[cfg.target_frac] = 0.\n",
    "test_dl.dataset.metadf = pd.DataFrame({'StudyInstanceUID': \\\n",
    "                                       test_dl.dataset.df.index.unique()}).set_index('StudyInstanceUID')\n",
    "test_dl.dataset.metadf[['patient_overall'] + cfg.target] = 0.\n",
    "#test_dl.dataset.metadf\n",
    "\n",
    "state_dict_fps = sorted(glob.glob('./weights-cfg-dh-fracseq-04f-crop-gx2-4f2ff/fold-1*check*'))\n",
    "state_dict_fps = state_dict_fps[:MAX_FOLDS]\n",
    "\n",
    "print('\\n'.join(state_dict_fps))\n",
    "nets += get_nets(cfg,state_dict_fps, test_dl.dataset)"
   ]
  },
  {
   "cell_type": "code",
   "execution_count": null,
   "id": "9f4b6992",
   "metadata": {
    "papermill": {
     "duration": 22.776067,
     "end_time": "2022-10-26T14:15:04.993489",
     "exception": false,
     "start_time": "2022-10-26T14:14:42.217422",
     "status": "completed"
    },
    "tags": []
   },
   "outputs": [],
   "source": [
    "name = 'cfg_dh_fracseq_04G_crop_gx1'\n",
    "\n",
    "cfg = get_cfg(name)\n",
    "cfg.meta_df = META_DF\n",
    "cfg.data_folder = DATA_FOLDER\n",
    "cfg.verify_sample = False\n",
    "cfg.load_jpg = False\n",
    "cfg.cnn_chunk_size = 16\n",
    "cfg.bbox_df = 'train_bbox_pred_v01.csv'\n",
    "cfg.batch_size=1\n",
    "cfg.norm_on_cuda=True\n",
    "test_dl, batch_to_device = get_dl(cfg)\n",
    "test_dl.dataset.norm_mean = test_dl.dataset.norm_mean.to(DEVICE)#.half()\n",
    "test_dl.dataset.norm_std = test_dl.dataset.norm_std.to(DEVICE)#.half()\n",
    "test_dl.dataset.metadf = pd.DataFrame({'StudyInstanceUID': \\\n",
    "                                       test_dl.dataset.df.index.unique()}).set_index('StudyInstanceUID')\n",
    "test_dl.dataset.metadf[['patient_overall'] + cfg.target] = 0.\n",
    "state_dict_fps = sorted(glob.glob('./weights-cfg-dh-fracseq-04g-crop-gx1-5f2ff/fold-1*check*'))\n",
    "state_dict_fps = state_dict_fps[:MAX_FOLDS]\n",
    "\n",
    "print('\\n'.join(state_dict_fps))\n",
    "nets += get_nets(cfg,state_dict_fps, test_dl.dataset)"
   ]
  },
  {
   "cell_type": "code",
   "execution_count": null,
   "id": "747e0965",
   "metadata": {
    "papermill": {
     "duration": 0.033169,
     "end_time": "2022-10-26T14:15:05.043117",
     "exception": false,
     "start_time": "2022-10-26T14:15:05.009948",
     "status": "completed"
    },
    "tags": []
   },
   "outputs": [],
   "source": [
    "print(len(nets))\n",
    "print('Cnn chunk sizes : '+' '.join(map(str, [i.cfg.cnn_chunk_size for i in nets])))"
   ]
  },
  {
   "cell_type": "code",
   "execution_count": null,
   "id": "2213563f",
   "metadata": {
    "papermill": {
     "duration": 41.07306,
     "end_time": "2022-10-26T14:15:46.127538",
     "exception": false,
     "start_time": "2022-10-26T14:15:05.054478",
     "status": "completed"
    },
    "tags": []
   },
   "outputs": [],
   "source": [
    "vaacoshl_data = {}\n",
    "preds = []\n",
    "#ids = []\n",
    "with torch.inference_mode():\n",
    "    for tt, batch in tqdm(enumerate(test_dl), total = len(test_dl)):\n",
    "        batch = batch_to_device(batch,DEVICE)\n",
    "        batch['image'] = test_dl.dataset.norm4d( batch['image'] )\n",
    "        #batch['image'] = batch['image'].half()\n",
    "        outs = [net(batch) for net in nets]\n",
    "        preds += [torch.sigmoid(torch.stack([out['logits'] for out in outs], dim=0)).cpu().mean(0)]\n",
    "        if tt % 10 == 0:\n",
    "            gc.collect()\n",
    "            torch.cuda.empty_cache()\n",
    "ids = test_dl.dataset.ids\n",
    "preds = torch.cat(preds, dim=0).float()\n",
    "del test_dl, nets\n",
    "gc.collect()\n",
    "torch.cuda.empty_cache()"
   ]
  },
  {
   "cell_type": "code",
   "execution_count": null,
   "id": "c63beb3b",
   "metadata": {
    "papermill": {
     "duration": 0.039936,
     "end_time": "2022-10-26T14:15:46.186509",
     "exception": false,
     "start_time": "2022-10-26T14:15:46.146573",
     "status": "completed"
    },
    "tags": []
   },
   "outputs": [],
   "source": [
    "preddf = pd.DataFrame(preds.numpy(), columns = ['patient_overall'] + cfg.target)\n",
    "preddf['StudyInstanceUID'] = ids\n",
    "preddf = preddf.set_index('StudyInstanceUID')\n",
    "preddf.head()"
   ]
  },
  {
   "cell_type": "code",
   "execution_count": 45,
   "id": "2030cff1",
   "metadata": {
    "papermill": {
     "duration": 0.016428,
     "end_time": "2022-10-26T14:15:46.220713",
     "exception": false,
     "start_time": "2022-10-26T14:15:46.204285",
     "status": "completed"
    },
    "tags": []
   },
   "outputs": [
    {
     "data": {
      "text/plain": [
       "(5161, 8)"
      ]
     },
     "execution_count": 45,
     "metadata": {},
     "output_type": "execute_result"
    }
   ],
   "source": [
    "preddf.shape"
   ]
  },
  {
   "cell_type": "code",
   "execution_count": 40,
   "id": "f97ae6ef",
   "metadata": {
    "papermill": {
     "duration": 0.027309,
     "end_time": "2022-10-26T14:15:46.265075",
     "exception": false,
     "start_time": "2022-10-26T14:15:46.237766",
     "status": "completed"
    },
    "tags": []
   },
   "outputs": [],
   "source": [
    "preddfls.append(preddf)"
   ]
  },
  {
   "cell_type": "code",
   "execution_count": null,
   "id": "f8c6a999",
   "metadata": {
    "papermill": {
     "duration": 0.036851,
     "end_time": "2022-10-26T14:15:46.499274",
     "exception": false,
     "start_time": "2022-10-26T14:15:46.462423",
     "status": "completed"
    },
    "tags": []
   },
   "outputs": [],
   "source": [
    "preddfall = ((preddfls[0] * 1)+ (preddfls[1] * 4)) / 5\n",
    "preddfall.head()"
   ]
  },
  {
   "cell_type": "code",
   "execution_count": null,
   "id": "6d310740",
   "metadata": {
    "papermill": {
     "duration": 0.040613,
     "end_time": "2022-10-26T14:15:46.556784",
     "exception": false,
     "start_time": "2022-10-26T14:15:46.516171",
     "status": "completed"
    },
    "tags": []
   },
   "outputs": [],
   "source": [
    "subdf = preddfall.reset_index().melt(id_vars=[\"StudyInstanceUID\"], var_name=\"row_id\", value_name=\"fractured\")\n",
    "subdf['row_id'] = subdf[['StudyInstanceUID', 'row_id']] .agg('_'.join, axis=1)\n",
    "subdf = subdf.drop('StudyInstanceUID', 1)\n",
    "subdf.head()"
   ]
  },
  {
   "cell_type": "code",
   "execution_count": 44,
   "id": "64ae44f6-1ca6-40ed-81d5-46c9635889fc",
   "metadata": {
    "tags": []
   },
   "outputs": [
    {
     "data": {
      "text/plain": [
       "(41288, 2)"
      ]
     },
     "execution_count": 44,
     "metadata": {},
     "output_type": "execute_result"
    }
   ],
   "source": [
    "subdf.shape"
   ]
  },
  {
   "cell_type": "code",
   "execution_count": null,
   "id": "c64ebe44",
   "metadata": {
    "papermill": {
     "duration": 0.033277,
     "end_time": "2022-10-26T14:15:46.634270",
     "exception": false,
     "start_time": "2022-10-26T14:15:46.600993",
     "status": "completed"
    },
    "tags": []
   },
   "outputs": [],
   "source": [
    "subdf.to_csv(OUTPUT_FILE, index=False)"
   ]
  },
  {
   "cell_type": "code",
   "execution_count": null,
   "id": "0e40114e",
   "metadata": {
    "papermill": {
     "duration": 0.016474,
     "end_time": "2022-10-26T14:15:46.716015",
     "exception": false,
     "start_time": "2022-10-26T14:15:46.699541",
     "status": "completed"
    },
    "tags": []
   },
   "outputs": [],
   "source": []
  },
  {
   "cell_type": "code",
   "execution_count": null,
   "id": "df4b5871",
   "metadata": {
    "papermill": {
     "duration": 0.017081,
     "end_time": "2022-10-26T14:15:46.751070",
     "exception": false,
     "start_time": "2022-10-26T14:15:46.733989",
     "status": "completed"
    },
    "tags": []
   },
   "outputs": [],
   "source": []
  }
 ],
 "metadata": {
  "kernelspec": {
   "display_name": "cp39env",
   "language": "python",
   "name": "cp39env"
  },
  "language_info": {
   "codemirror_mode": {
    "name": "ipython",
    "version": 3
   },
   "file_extension": ".py",
   "mimetype": "text/x-python",
   "name": "python",
   "nbconvert_exporter": "python",
   "pygments_lexer": "ipython3",
   "version": "3.9.18"
  },
  "papermill": {
   "default_parameters": {},
   "duration": 228.402566,
   "end_time": "2022-10-26T14:15:50.050042",
   "environment_variables": {},
   "exception": null,
   "input_path": "__notebook__.ipynb",
   "output_path": "__notebook__.ipynb",
   "parameters": {},
   "start_time": "2022-10-26T14:12:01.647476",
   "version": "2.3.4"
  },
  "widgets": {
   "application/vnd.jupyter.widget-state+json": {
    "state": {
     "04ae7ff1324a4866bfa89014011714e8": {
      "model_module": "@jupyter-widgets/controls",
      "model_module_version": "1.5.0",
      "model_name": "DescriptionStyleModel",
      "state": {
       "_model_module": "@jupyter-widgets/controls",
       "_model_module_version": "1.5.0",
       "_model_name": "DescriptionStyleModel",
       "_view_count": null,
       "_view_module": "@jupyter-widgets/base",
       "_view_module_version": "1.2.0",
       "_view_name": "StyleView",
       "description_width": ""
      }
     },
     "0a41b3c7577f4ceb924ae41f0d6fdc1a": {
      "model_module": "@jupyter-widgets/base",
      "model_module_version": "1.2.0",
      "model_name": "LayoutModel",
      "state": {
       "_model_module": "@jupyter-widgets/base",
       "_model_module_version": "1.2.0",
       "_model_name": "LayoutModel",
       "_view_count": null,
       "_view_module": "@jupyter-widgets/base",
       "_view_module_version": "1.2.0",
       "_view_name": "LayoutView",
       "align_content": null,
       "align_items": null,
       "align_self": null,
       "border": null,
       "bottom": null,
       "display": null,
       "flex": null,
       "flex_flow": null,
       "grid_area": null,
       "grid_auto_columns": null,
       "grid_auto_flow": null,
       "grid_auto_rows": null,
       "grid_column": null,
       "grid_gap": null,
       "grid_row": null,
       "grid_template_areas": null,
       "grid_template_columns": null,
       "grid_template_rows": null,
       "height": null,
       "justify_content": null,
       "justify_items": null,
       "left": null,
       "margin": null,
       "max_height": null,
       "max_width": null,
       "min_height": null,
       "min_width": null,
       "object_fit": null,
       "object_position": null,
       "order": null,
       "overflow": null,
       "overflow_x": null,
       "overflow_y": null,
       "padding": null,
       "right": null,
       "top": null,
       "visibility": null,
       "width": null
      }
     },
     "113e15e36ef94d88a1b51ebbcf5fb55a": {
      "model_module": "@jupyter-widgets/controls",
      "model_module_version": "1.5.0",
      "model_name": "DescriptionStyleModel",
      "state": {
       "_model_module": "@jupyter-widgets/controls",
       "_model_module_version": "1.5.0",
       "_model_name": "DescriptionStyleModel",
       "_view_count": null,
       "_view_module": "@jupyter-widgets/base",
       "_view_module_version": "1.2.0",
       "_view_name": "StyleView",
       "description_width": ""
      }
     },
     "20cf2a64cf5643b9b7046550001f9d38": {
      "model_module": "@jupyter-widgets/controls",
      "model_module_version": "1.5.0",
      "model_name": "HBoxModel",
      "state": {
       "_dom_classes": [],
       "_model_module": "@jupyter-widgets/controls",
       "_model_module_version": "1.5.0",
       "_model_name": "HBoxModel",
       "_view_count": null,
       "_view_module": "@jupyter-widgets/controls",
       "_view_module_version": "1.5.0",
       "_view_name": "HBoxView",
       "box_style": "",
       "children": [
        "IPY_MODEL_34dbb421aa674d6c88536b60976f3ff7",
        "IPY_MODEL_678798d5387a4aaaa56b756f6e910934",
        "IPY_MODEL_83f490a2ca934479a1d4e238ca4923ed"
       ],
       "layout": "IPY_MODEL_4fdb0e72c98f4ac98a747b262dc30ed7"
      }
     },
     "22250cd45cfe46aa9b8029c627af36e1": {
      "model_module": "@jupyter-widgets/controls",
      "model_module_version": "1.5.0",
      "model_name": "DescriptionStyleModel",
      "state": {
       "_model_module": "@jupyter-widgets/controls",
       "_model_module_version": "1.5.0",
       "_model_name": "DescriptionStyleModel",
       "_view_count": null,
       "_view_module": "@jupyter-widgets/base",
       "_view_module_version": "1.2.0",
       "_view_name": "StyleView",
       "description_width": ""
      }
     },
     "2c5f48c443734a249d033b0b1e0f8830": {
      "model_module": "@jupyter-widgets/base",
      "model_module_version": "1.2.0",
      "model_name": "LayoutModel",
      "state": {
       "_model_module": "@jupyter-widgets/base",
       "_model_module_version": "1.2.0",
       "_model_name": "LayoutModel",
       "_view_count": null,
       "_view_module": "@jupyter-widgets/base",
       "_view_module_version": "1.2.0",
       "_view_name": "LayoutView",
       "align_content": null,
       "align_items": null,
       "align_self": null,
       "border": null,
       "bottom": null,
       "display": null,
       "flex": null,
       "flex_flow": null,
       "grid_area": null,
       "grid_auto_columns": null,
       "grid_auto_flow": null,
       "grid_auto_rows": null,
       "grid_column": null,
       "grid_gap": null,
       "grid_row": null,
       "grid_template_areas": null,
       "grid_template_columns": null,
       "grid_template_rows": null,
       "height": null,
       "justify_content": null,
       "justify_items": null,
       "left": null,
       "margin": null,
       "max_height": null,
       "max_width": null,
       "min_height": null,
       "min_width": null,
       "object_fit": null,
       "object_position": null,
       "order": null,
       "overflow": null,
       "overflow_x": null,
       "overflow_y": null,
       "padding": null,
       "right": null,
       "top": null,
       "visibility": null,
       "width": null
      }
     },
     "2c8f7bf5cfff45109b39bf9893728f16": {
      "model_module": "@jupyter-widgets/controls",
      "model_module_version": "1.5.0",
      "model_name": "ProgressStyleModel",
      "state": {
       "_model_module": "@jupyter-widgets/controls",
       "_model_module_version": "1.5.0",
       "_model_name": "ProgressStyleModel",
       "_view_count": null,
       "_view_module": "@jupyter-widgets/base",
       "_view_module_version": "1.2.0",
       "_view_name": "StyleView",
       "bar_color": null,
       "description_width": ""
      }
     },
     "34dbb421aa674d6c88536b60976f3ff7": {
      "model_module": "@jupyter-widgets/controls",
      "model_module_version": "1.5.0",
      "model_name": "HTMLModel",
      "state": {
       "_dom_classes": [],
       "_model_module": "@jupyter-widgets/controls",
       "_model_module_version": "1.5.0",
       "_model_name": "HTMLModel",
       "_view_count": null,
       "_view_module": "@jupyter-widgets/controls",
       "_view_module_version": "1.5.0",
       "_view_name": "HTMLView",
       "description": "",
       "description_tooltip": null,
       "layout": "IPY_MODEL_61bd5ac0507b49499d21362ee21b4152",
       "placeholder": "​",
       "style": "IPY_MODEL_cca5072ef54d439bae04bace4fb7b600",
       "value": "100%"
      }
     },
     "384b6a120e33487f9431ed557dcb0de2": {
      "model_module": "@jupyter-widgets/controls",
      "model_module_version": "1.5.0",
      "model_name": "HBoxModel",
      "state": {
       "_dom_classes": [],
       "_model_module": "@jupyter-widgets/controls",
       "_model_module_version": "1.5.0",
       "_model_name": "HBoxModel",
       "_view_count": null,
       "_view_module": "@jupyter-widgets/controls",
       "_view_module_version": "1.5.0",
       "_view_name": "HBoxView",
       "box_style": "",
       "children": [
        "IPY_MODEL_c8217233a435476e99ef349be47c4611",
        "IPY_MODEL_dd3792d6d5594272a70d7221cd5d411d",
        "IPY_MODEL_c19c06d6c3d340ab9c40a761022c4843"
       ],
       "layout": "IPY_MODEL_d3e8ea8417224acc99b01fb768f598f7"
      }
     },
     "3f37e98389844cf3b0fed594be9d0381": {
      "model_module": "@jupyter-widgets/base",
      "model_module_version": "1.2.0",
      "model_name": "LayoutModel",
      "state": {
       "_model_module": "@jupyter-widgets/base",
       "_model_module_version": "1.2.0",
       "_model_name": "LayoutModel",
       "_view_count": null,
       "_view_module": "@jupyter-widgets/base",
       "_view_module_version": "1.2.0",
       "_view_name": "LayoutView",
       "align_content": null,
       "align_items": null,
       "align_self": null,
       "border": null,
       "bottom": null,
       "display": null,
       "flex": null,
       "flex_flow": null,
       "grid_area": null,
       "grid_auto_columns": null,
       "grid_auto_flow": null,
       "grid_auto_rows": null,
       "grid_column": null,
       "grid_gap": null,
       "grid_row": null,
       "grid_template_areas": null,
       "grid_template_columns": null,
       "grid_template_rows": null,
       "height": null,
       "justify_content": null,
       "justify_items": null,
       "left": null,
       "margin": null,
       "max_height": null,
       "max_width": null,
       "min_height": null,
       "min_width": null,
       "object_fit": null,
       "object_position": null,
       "order": null,
       "overflow": null,
       "overflow_x": null,
       "overflow_y": null,
       "padding": null,
       "right": null,
       "top": null,
       "visibility": null,
       "width": null
      }
     },
     "4e49d5b6668c43a39bdc4542bcd86ec4": {
      "model_module": "@jupyter-widgets/base",
      "model_module_version": "1.2.0",
      "model_name": "LayoutModel",
      "state": {
       "_model_module": "@jupyter-widgets/base",
       "_model_module_version": "1.2.0",
       "_model_name": "LayoutModel",
       "_view_count": null,
       "_view_module": "@jupyter-widgets/base",
       "_view_module_version": "1.2.0",
       "_view_name": "LayoutView",
       "align_content": null,
       "align_items": null,
       "align_self": null,
       "border": null,
       "bottom": null,
       "display": null,
       "flex": null,
       "flex_flow": null,
       "grid_area": null,
       "grid_auto_columns": null,
       "grid_auto_flow": null,
       "grid_auto_rows": null,
       "grid_column": null,
       "grid_gap": null,
       "grid_row": null,
       "grid_template_areas": null,
       "grid_template_columns": null,
       "grid_template_rows": null,
       "height": null,
       "justify_content": null,
       "justify_items": null,
       "left": null,
       "margin": null,
       "max_height": null,
       "max_width": null,
       "min_height": null,
       "min_width": null,
       "object_fit": null,
       "object_position": null,
       "order": null,
       "overflow": null,
       "overflow_x": null,
       "overflow_y": null,
       "padding": null,
       "right": null,
       "top": null,
       "visibility": null,
       "width": null
      }
     },
     "4fdb0e72c98f4ac98a747b262dc30ed7": {
      "model_module": "@jupyter-widgets/base",
      "model_module_version": "1.2.0",
      "model_name": "LayoutModel",
      "state": {
       "_model_module": "@jupyter-widgets/base",
       "_model_module_version": "1.2.0",
       "_model_name": "LayoutModel",
       "_view_count": null,
       "_view_module": "@jupyter-widgets/base",
       "_view_module_version": "1.2.0",
       "_view_name": "LayoutView",
       "align_content": null,
       "align_items": null,
       "align_self": null,
       "border": null,
       "bottom": null,
       "display": null,
       "flex": null,
       "flex_flow": null,
       "grid_area": null,
       "grid_auto_columns": null,
       "grid_auto_flow": null,
       "grid_auto_rows": null,
       "grid_column": null,
       "grid_gap": null,
       "grid_row": null,
       "grid_template_areas": null,
       "grid_template_columns": null,
       "grid_template_rows": null,
       "height": null,
       "justify_content": null,
       "justify_items": null,
       "left": null,
       "margin": null,
       "max_height": null,
       "max_width": null,
       "min_height": null,
       "min_width": null,
       "object_fit": null,
       "object_position": null,
       "order": null,
       "overflow": null,
       "overflow_x": null,
       "overflow_y": null,
       "padding": null,
       "right": null,
       "top": null,
       "visibility": null,
       "width": null
      }
     },
     "5c3a021d36314d9c973ff00c827b0f15": {
      "model_module": "@jupyter-widgets/controls",
      "model_module_version": "1.5.0",
      "model_name": "HTMLModel",
      "state": {
       "_dom_classes": [],
       "_model_module": "@jupyter-widgets/controls",
       "_model_module_version": "1.5.0",
       "_model_name": "HTMLModel",
       "_view_count": null,
       "_view_module": "@jupyter-widgets/controls",
       "_view_module_version": "1.5.0",
       "_view_name": "HTMLView",
       "description": "",
       "description_tooltip": null,
       "layout": "IPY_MODEL_3f37e98389844cf3b0fed594be9d0381",
       "placeholder": "​",
       "style": "IPY_MODEL_22250cd45cfe46aa9b8029c627af36e1",
       "value": "100%"
      }
     },
     "5f997e01356c4cdd9f8c96293961dd56": {
      "model_module": "@jupyter-widgets/base",
      "model_module_version": "1.2.0",
      "model_name": "LayoutModel",
      "state": {
       "_model_module": "@jupyter-widgets/base",
       "_model_module_version": "1.2.0",
       "_model_name": "LayoutModel",
       "_view_count": null,
       "_view_module": "@jupyter-widgets/base",
       "_view_module_version": "1.2.0",
       "_view_name": "LayoutView",
       "align_content": null,
       "align_items": null,
       "align_self": null,
       "border": null,
       "bottom": null,
       "display": null,
       "flex": null,
       "flex_flow": null,
       "grid_area": null,
       "grid_auto_columns": null,
       "grid_auto_flow": null,
       "grid_auto_rows": null,
       "grid_column": null,
       "grid_gap": null,
       "grid_row": null,
       "grid_template_areas": null,
       "grid_template_columns": null,
       "grid_template_rows": null,
       "height": null,
       "justify_content": null,
       "justify_items": null,
       "left": null,
       "margin": null,
       "max_height": null,
       "max_width": null,
       "min_height": null,
       "min_width": null,
       "object_fit": null,
       "object_position": null,
       "order": null,
       "overflow": null,
       "overflow_x": null,
       "overflow_y": null,
       "padding": null,
       "right": null,
       "top": null,
       "visibility": null,
       "width": null
      }
     },
     "61bd5ac0507b49499d21362ee21b4152": {
      "model_module": "@jupyter-widgets/base",
      "model_module_version": "1.2.0",
      "model_name": "LayoutModel",
      "state": {
       "_model_module": "@jupyter-widgets/base",
       "_model_module_version": "1.2.0",
       "_model_name": "LayoutModel",
       "_view_count": null,
       "_view_module": "@jupyter-widgets/base",
       "_view_module_version": "1.2.0",
       "_view_name": "LayoutView",
       "align_content": null,
       "align_items": null,
       "align_self": null,
       "border": null,
       "bottom": null,
       "display": null,
       "flex": null,
       "flex_flow": null,
       "grid_area": null,
       "grid_auto_columns": null,
       "grid_auto_flow": null,
       "grid_auto_rows": null,
       "grid_column": null,
       "grid_gap": null,
       "grid_row": null,
       "grid_template_areas": null,
       "grid_template_columns": null,
       "grid_template_rows": null,
       "height": null,
       "justify_content": null,
       "justify_items": null,
       "left": null,
       "margin": null,
       "max_height": null,
       "max_width": null,
       "min_height": null,
       "min_width": null,
       "object_fit": null,
       "object_position": null,
       "order": null,
       "overflow": null,
       "overflow_x": null,
       "overflow_y": null,
       "padding": null,
       "right": null,
       "top": null,
       "visibility": null,
       "width": null
      }
     },
     "6468862931444404beaeb9356df99127": {
      "model_module": "@jupyter-widgets/controls",
      "model_module_version": "1.5.0",
      "model_name": "DescriptionStyleModel",
      "state": {
       "_model_module": "@jupyter-widgets/controls",
       "_model_module_version": "1.5.0",
       "_model_name": "DescriptionStyleModel",
       "_view_count": null,
       "_view_module": "@jupyter-widgets/base",
       "_view_module_version": "1.2.0",
       "_view_name": "StyleView",
       "description_width": ""
      }
     },
     "65f6a130f94949cfab4b6e473029fd6f": {
      "model_module": "@jupyter-widgets/controls",
      "model_module_version": "1.5.0",
      "model_name": "FloatProgressModel",
      "state": {
       "_dom_classes": [],
       "_model_module": "@jupyter-widgets/controls",
       "_model_module_version": "1.5.0",
       "_model_name": "FloatProgressModel",
       "_view_count": null,
       "_view_module": "@jupyter-widgets/controls",
       "_view_module_version": "1.5.0",
       "_view_name": "ProgressView",
       "bar_style": "success",
       "description": "",
       "description_tooltip": null,
       "layout": "IPY_MODEL_d8c8856f77e343878235ef4efed18cee",
       "max": 3,
       "min": 0,
       "orientation": "horizontal",
       "style": "IPY_MODEL_70a35c2ce54448e5be1202a4ab354017",
       "value": 3
      }
     },
     "678798d5387a4aaaa56b756f6e910934": {
      "model_module": "@jupyter-widgets/controls",
      "model_module_version": "1.5.0",
      "model_name": "FloatProgressModel",
      "state": {
       "_dom_classes": [],
       "_model_module": "@jupyter-widgets/controls",
       "_model_module_version": "1.5.0",
       "_model_name": "FloatProgressModel",
       "_view_count": null,
       "_view_module": "@jupyter-widgets/controls",
       "_view_module_version": "1.5.0",
       "_view_name": "ProgressView",
       "bar_style": "success",
       "description": "",
       "description_tooltip": null,
       "layout": "IPY_MODEL_d2811e7adfbc451e9391d151c222cdad",
       "max": 55,
       "min": 0,
       "orientation": "horizontal",
       "style": "IPY_MODEL_6bb44bfefbc84f17970526bbbee3374f",
       "value": 55
      }
     },
     "68cc97222a704f13a22b34e0952faf58": {
      "model_module": "@jupyter-widgets/controls",
      "model_module_version": "1.5.0",
      "model_name": "HTMLModel",
      "state": {
       "_dom_classes": [],
       "_model_module": "@jupyter-widgets/controls",
       "_model_module_version": "1.5.0",
       "_model_name": "HTMLModel",
       "_view_count": null,
       "_view_module": "@jupyter-widgets/controls",
       "_view_module_version": "1.5.0",
       "_view_name": "HTMLView",
       "description": "",
       "description_tooltip": null,
       "layout": "IPY_MODEL_93841fb7073145c6b3cd540c096ea66d",
       "placeholder": "​",
       "style": "IPY_MODEL_04ae7ff1324a4866bfa89014011714e8",
       "value": " 3/3 [00:40&lt;00:00, 12.94s/it]"
      }
     },
     "6bb44bfefbc84f17970526bbbee3374f": {
      "model_module": "@jupyter-widgets/controls",
      "model_module_version": "1.5.0",
      "model_name": "ProgressStyleModel",
      "state": {
       "_model_module": "@jupyter-widgets/controls",
       "_model_module_version": "1.5.0",
       "_model_name": "ProgressStyleModel",
       "_view_count": null,
       "_view_module": "@jupyter-widgets/base",
       "_view_module_version": "1.2.0",
       "_view_name": "StyleView",
       "bar_color": null,
       "description_width": ""
      }
     },
     "70a35c2ce54448e5be1202a4ab354017": {
      "model_module": "@jupyter-widgets/controls",
      "model_module_version": "1.5.0",
      "model_name": "ProgressStyleModel",
      "state": {
       "_model_module": "@jupyter-widgets/controls",
       "_model_module_version": "1.5.0",
       "_model_name": "ProgressStyleModel",
       "_view_count": null,
       "_view_module": "@jupyter-widgets/base",
       "_view_module_version": "1.2.0",
       "_view_name": "StyleView",
       "bar_color": null,
       "description_width": ""
      }
     },
     "83f490a2ca934479a1d4e238ca4923ed": {
      "model_module": "@jupyter-widgets/controls",
      "model_module_version": "1.5.0",
      "model_name": "HTMLModel",
      "state": {
       "_dom_classes": [],
       "_model_module": "@jupyter-widgets/controls",
       "_model_module_version": "1.5.0",
       "_model_name": "HTMLModel",
       "_view_count": null,
       "_view_module": "@jupyter-widgets/controls",
       "_view_module_version": "1.5.0",
       "_view_name": "HTMLView",
       "description": "",
       "description_tooltip": null,
       "layout": "IPY_MODEL_4e49d5b6668c43a39bdc4542bcd86ec4",
       "placeholder": "​",
       "style": "IPY_MODEL_113e15e36ef94d88a1b51ebbcf5fb55a",
       "value": " 55/55 [00:33&lt;00:00,  3.01it/s]"
      }
     },
     "93841fb7073145c6b3cd540c096ea66d": {
      "model_module": "@jupyter-widgets/base",
      "model_module_version": "1.2.0",
      "model_name": "LayoutModel",
      "state": {
       "_model_module": "@jupyter-widgets/base",
       "_model_module_version": "1.2.0",
       "_model_name": "LayoutModel",
       "_view_count": null,
       "_view_module": "@jupyter-widgets/base",
       "_view_module_version": "1.2.0",
       "_view_name": "LayoutView",
       "align_content": null,
       "align_items": null,
       "align_self": null,
       "border": null,
       "bottom": null,
       "display": null,
       "flex": null,
       "flex_flow": null,
       "grid_area": null,
       "grid_auto_columns": null,
       "grid_auto_flow": null,
       "grid_auto_rows": null,
       "grid_column": null,
       "grid_gap": null,
       "grid_row": null,
       "grid_template_areas": null,
       "grid_template_columns": null,
       "grid_template_rows": null,
       "height": null,
       "justify_content": null,
       "justify_items": null,
       "left": null,
       "margin": null,
       "max_height": null,
       "max_width": null,
       "min_height": null,
       "min_width": null,
       "object_fit": null,
       "object_position": null,
       "order": null,
       "overflow": null,
       "overflow_x": null,
       "overflow_y": null,
       "padding": null,
       "right": null,
       "top": null,
       "visibility": null,
       "width": null
      }
     },
     "c045fb1c0cc84d1bbbe9e9d6ed067f51": {
      "model_module": "@jupyter-widgets/controls",
      "model_module_version": "1.5.0",
      "model_name": "DescriptionStyleModel",
      "state": {
       "_model_module": "@jupyter-widgets/controls",
       "_model_module_version": "1.5.0",
       "_model_name": "DescriptionStyleModel",
       "_view_count": null,
       "_view_module": "@jupyter-widgets/base",
       "_view_module_version": "1.2.0",
       "_view_name": "StyleView",
       "description_width": ""
      }
     },
     "c19c06d6c3d340ab9c40a761022c4843": {
      "model_module": "@jupyter-widgets/controls",
      "model_module_version": "1.5.0",
      "model_name": "HTMLModel",
      "state": {
       "_dom_classes": [],
       "_model_module": "@jupyter-widgets/controls",
       "_model_module_version": "1.5.0",
       "_model_name": "HTMLModel",
       "_view_count": null,
       "_view_module": "@jupyter-widgets/controls",
       "_view_module_version": "1.5.0",
       "_view_name": "HTMLView",
       "description": "",
       "description_tooltip": null,
       "layout": "IPY_MODEL_0a41b3c7577f4ceb924ae41f0d6fdc1a",
       "placeholder": "​",
       "style": "IPY_MODEL_6468862931444404beaeb9356df99127",
       "value": " 3/3 [00:18&lt;00:00,  5.31s/it]"
      }
     },
     "c8217233a435476e99ef349be47c4611": {
      "model_module": "@jupyter-widgets/controls",
      "model_module_version": "1.5.0",
      "model_name": "HTMLModel",
      "state": {
       "_dom_classes": [],
       "_model_module": "@jupyter-widgets/controls",
       "_model_module_version": "1.5.0",
       "_model_name": "HTMLModel",
       "_view_count": null,
       "_view_module": "@jupyter-widgets/controls",
       "_view_module_version": "1.5.0",
       "_view_name": "HTMLView",
       "description": "",
       "description_tooltip": null,
       "layout": "IPY_MODEL_5f997e01356c4cdd9f8c96293961dd56",
       "placeholder": "​",
       "style": "IPY_MODEL_c045fb1c0cc84d1bbbe9e9d6ed067f51",
       "value": "100%"
      }
     },
     "cca5072ef54d439bae04bace4fb7b600": {
      "model_module": "@jupyter-widgets/controls",
      "model_module_version": "1.5.0",
      "model_name": "DescriptionStyleModel",
      "state": {
       "_model_module": "@jupyter-widgets/controls",
       "_model_module_version": "1.5.0",
       "_model_name": "DescriptionStyleModel",
       "_view_count": null,
       "_view_module": "@jupyter-widgets/base",
       "_view_module_version": "1.2.0",
       "_view_name": "StyleView",
       "description_width": ""
      }
     },
     "ce95bce2b71e4d0abbc660c4d591b028": {
      "model_module": "@jupyter-widgets/controls",
      "model_module_version": "1.5.0",
      "model_name": "HBoxModel",
      "state": {
       "_dom_classes": [],
       "_model_module": "@jupyter-widgets/controls",
       "_model_module_version": "1.5.0",
       "_model_name": "HBoxModel",
       "_view_count": null,
       "_view_module": "@jupyter-widgets/controls",
       "_view_module_version": "1.5.0",
       "_view_name": "HBoxView",
       "box_style": "",
       "children": [
        "IPY_MODEL_5c3a021d36314d9c973ff00c827b0f15",
        "IPY_MODEL_65f6a130f94949cfab4b6e473029fd6f",
        "IPY_MODEL_68cc97222a704f13a22b34e0952faf58"
       ],
       "layout": "IPY_MODEL_edf8198722d641888c950e15fd0052c5"
      }
     },
     "d2811e7adfbc451e9391d151c222cdad": {
      "model_module": "@jupyter-widgets/base",
      "model_module_version": "1.2.0",
      "model_name": "LayoutModel",
      "state": {
       "_model_module": "@jupyter-widgets/base",
       "_model_module_version": "1.2.0",
       "_model_name": "LayoutModel",
       "_view_count": null,
       "_view_module": "@jupyter-widgets/base",
       "_view_module_version": "1.2.0",
       "_view_name": "LayoutView",
       "align_content": null,
       "align_items": null,
       "align_self": null,
       "border": null,
       "bottom": null,
       "display": null,
       "flex": null,
       "flex_flow": null,
       "grid_area": null,
       "grid_auto_columns": null,
       "grid_auto_flow": null,
       "grid_auto_rows": null,
       "grid_column": null,
       "grid_gap": null,
       "grid_row": null,
       "grid_template_areas": null,
       "grid_template_columns": null,
       "grid_template_rows": null,
       "height": null,
       "justify_content": null,
       "justify_items": null,
       "left": null,
       "margin": null,
       "max_height": null,
       "max_width": null,
       "min_height": null,
       "min_width": null,
       "object_fit": null,
       "object_position": null,
       "order": null,
       "overflow": null,
       "overflow_x": null,
       "overflow_y": null,
       "padding": null,
       "right": null,
       "top": null,
       "visibility": null,
       "width": null
      }
     },
     "d3e8ea8417224acc99b01fb768f598f7": {
      "model_module": "@jupyter-widgets/base",
      "model_module_version": "1.2.0",
      "model_name": "LayoutModel",
      "state": {
       "_model_module": "@jupyter-widgets/base",
       "_model_module_version": "1.2.0",
       "_model_name": "LayoutModel",
       "_view_count": null,
       "_view_module": "@jupyter-widgets/base",
       "_view_module_version": "1.2.0",
       "_view_name": "LayoutView",
       "align_content": null,
       "align_items": null,
       "align_self": null,
       "border": null,
       "bottom": null,
       "display": null,
       "flex": null,
       "flex_flow": null,
       "grid_area": null,
       "grid_auto_columns": null,
       "grid_auto_flow": null,
       "grid_auto_rows": null,
       "grid_column": null,
       "grid_gap": null,
       "grid_row": null,
       "grid_template_areas": null,
       "grid_template_columns": null,
       "grid_template_rows": null,
       "height": null,
       "justify_content": null,
       "justify_items": null,
       "left": null,
       "margin": null,
       "max_height": null,
       "max_width": null,
       "min_height": null,
       "min_width": null,
       "object_fit": null,
       "object_position": null,
       "order": null,
       "overflow": null,
       "overflow_x": null,
       "overflow_y": null,
       "padding": null,
       "right": null,
       "top": null,
       "visibility": null,
       "width": null
      }
     },
     "d8c8856f77e343878235ef4efed18cee": {
      "model_module": "@jupyter-widgets/base",
      "model_module_version": "1.2.0",
      "model_name": "LayoutModel",
      "state": {
       "_model_module": "@jupyter-widgets/base",
       "_model_module_version": "1.2.0",
       "_model_name": "LayoutModel",
       "_view_count": null,
       "_view_module": "@jupyter-widgets/base",
       "_view_module_version": "1.2.0",
       "_view_name": "LayoutView",
       "align_content": null,
       "align_items": null,
       "align_self": null,
       "border": null,
       "bottom": null,
       "display": null,
       "flex": null,
       "flex_flow": null,
       "grid_area": null,
       "grid_auto_columns": null,
       "grid_auto_flow": null,
       "grid_auto_rows": null,
       "grid_column": null,
       "grid_gap": null,
       "grid_row": null,
       "grid_template_areas": null,
       "grid_template_columns": null,
       "grid_template_rows": null,
       "height": null,
       "justify_content": null,
       "justify_items": null,
       "left": null,
       "margin": null,
       "max_height": null,
       "max_width": null,
       "min_height": null,
       "min_width": null,
       "object_fit": null,
       "object_position": null,
       "order": null,
       "overflow": null,
       "overflow_x": null,
       "overflow_y": null,
       "padding": null,
       "right": null,
       "top": null,
       "visibility": null,
       "width": null
      }
     },
     "dd3792d6d5594272a70d7221cd5d411d": {
      "model_module": "@jupyter-widgets/controls",
      "model_module_version": "1.5.0",
      "model_name": "FloatProgressModel",
      "state": {
       "_dom_classes": [],
       "_model_module": "@jupyter-widgets/controls",
       "_model_module_version": "1.5.0",
       "_model_name": "FloatProgressModel",
       "_view_count": null,
       "_view_module": "@jupyter-widgets/controls",
       "_view_module_version": "1.5.0",
       "_view_name": "ProgressView",
       "bar_style": "success",
       "description": "",
       "description_tooltip": null,
       "layout": "IPY_MODEL_2c5f48c443734a249d033b0b1e0f8830",
       "max": 3,
       "min": 0,
       "orientation": "horizontal",
       "style": "IPY_MODEL_2c8f7bf5cfff45109b39bf9893728f16",
       "value": 3
      }
     },
     "edf8198722d641888c950e15fd0052c5": {
      "model_module": "@jupyter-widgets/base",
      "model_module_version": "1.2.0",
      "model_name": "LayoutModel",
      "state": {
       "_model_module": "@jupyter-widgets/base",
       "_model_module_version": "1.2.0",
       "_model_name": "LayoutModel",
       "_view_count": null,
       "_view_module": "@jupyter-widgets/base",
       "_view_module_version": "1.2.0",
       "_view_name": "LayoutView",
       "align_content": null,
       "align_items": null,
       "align_self": null,
       "border": null,
       "bottom": null,
       "display": null,
       "flex": null,
       "flex_flow": null,
       "grid_area": null,
       "grid_auto_columns": null,
       "grid_auto_flow": null,
       "grid_auto_rows": null,
       "grid_column": null,
       "grid_gap": null,
       "grid_row": null,
       "grid_template_areas": null,
       "grid_template_columns": null,
       "grid_template_rows": null,
       "height": null,
       "justify_content": null,
       "justify_items": null,
       "left": null,
       "margin": null,
       "max_height": null,
       "max_width": null,
       "min_height": null,
       "min_width": null,
       "object_fit": null,
       "object_position": null,
       "order": null,
       "overflow": null,
       "overflow_x": null,
       "overflow_y": null,
       "padding": null,
       "right": null,
       "top": null,
       "visibility": null,
       "width": null
      }
     }
    },
    "version_major": 2,
    "version_minor": 0
   }
  }
 },
 "nbformat": 4,
 "nbformat_minor": 5
}
