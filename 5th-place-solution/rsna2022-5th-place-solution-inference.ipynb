{
 "cells": [
  {
   "cell_type": "code",
   "execution_count": 1,
   "id": "3cb2c925",
   "metadata": {
    "papermill": {
     "duration": 14.258202,
     "end_time": "2022-11-07T13:20:02.334066",
     "exception": false,
     "start_time": "2022-11-07T13:19:48.075864",
     "status": "completed"
    },
    "tags": []
   },
   "outputs": [],
   "source": [
    "# !pip install ../input/rsna-pip-wheels-v3/segmentation_models_pytorch-0.3.0-py3-none-any.whl --no-index --find-links=../input/rsna-pip-wheels-v3 -q"
   ]
  },
  {
   "cell_type": "code",
   "execution_count": null,
   "metadata": {},
   "outputs": [],
   "source": [
    "### please specify your input path here\n",
    "PROJECT_FOLDER = \"YOUR_PROJECT_FOLDER\" # parent folder of the input images\n",
    "IMAGE_DATA_FOLDER = PROJECT_FOLDER + \"images/\" # folder of the input images\n",
    "INPUT_TEST_CSV_FILE = \"YOUR_TEST_FILE\" # csv file list locations / paths to test cases (dicom)\n",
    "OUTPUT_FILE = \"YOUR_OUTPUT\" # in csv format"
   ]
  },
  {
   "cell_type": "code",
   "execution_count": 2,
   "id": "650d4679",
   "metadata": {
    "papermill": {
     "duration": 30.239053,
     "end_time": "2022-11-07T13:20:32.582144",
     "exception": false,
     "start_time": "2022-11-07T13:20:02.343091",
     "status": "completed"
    },
    "tags": []
   },
   "outputs": [],
   "source": [
    "# !pip install ../input/rsna-pip-wheels-v3/timm-0.6.11-py3-none-any.whl -q"
   ]
  },
  {
   "cell_type": "code",
   "execution_count": 3,
   "id": "67473dc4",
   "metadata": {
    "papermill": {
     "duration": 30.407284,
     "end_time": "2022-11-07T13:21:02.998452",
     "exception": false,
     "start_time": "2022-11-07T13:20:32.591168",
     "status": "completed"
    },
    "tags": []
   },
   "outputs": [],
   "source": [
    "# !pip install ../input/rsna-pip-wheels-v3/python_gdcm-3.0.19-cp37-cp37m-manylinux_2_17_x86_64.manylinux2014_x86_64.whl -q"
   ]
  },
  {
   "cell_type": "code",
   "execution_count": 4,
   "id": "08418e9b",
   "metadata": {
    "papermill": {
     "duration": 29.755142,
     "end_time": "2022-11-07T13:21:32.762683",
     "exception": false,
     "start_time": "2022-11-07T13:21:03.007541",
     "status": "completed"
    },
    "tags": []
   },
   "outputs": [],
   "source": [
    "# !pip install ../input/rsna-pip-wheels-v3/pylibjpeg-1.4.0-py3-none-any.whl"
   ]
  },
  {
   "cell_type": "code",
   "execution_count": 5,
   "id": "c8d0f8b0-d5aa-46d2-9948-c16670e14c1d",
   "metadata": {
    "tags": []
   },
   "outputs": [],
   "source": [
    "import re\n",
    "%load_ext autoreload\n",
    "%autoreload 2"
   ]
  },
  {
   "cell_type": "code",
   "execution_count": null,
   "id": "aec758fc",
   "metadata": {
    "ExecuteTime": {
     "end_time": "2023-06-20T21:07:36.923724Z",
     "start_time": "2023-06-20T21:07:35.627277Z"
    },
    "papermill": {
     "duration": 3.074368,
     "end_time": "2022-11-07T13:21:35.846478",
     "exception": false,
     "start_time": "2022-11-07T13:21:32.772110",
     "status": "completed"
    },
    "tags": []
   },
   "outputs": [],
   "source": [
    "import timm\n",
    "timm.__version__"
   ]
  },
  {
   "cell_type": "code",
   "execution_count": 7,
   "id": "ff25739b",
   "metadata": {
    "ExecuteTime": {
     "end_time": "2023-06-20T21:07:53.448369Z",
     "start_time": "2023-06-20T21:07:52.685637Z"
    },
    "_cell_guid": "b1076dfc-b9ad-4769-8c92-a6c4dae69d19",
    "_uuid": "8f2839f25d086af736a60e9eeb907d3b93b6e0e5",
    "papermill": {
     "duration": 2.772297,
     "end_time": "2022-11-07T13:21:38.628168",
     "exception": false,
     "start_time": "2022-11-07T13:21:35.855871",
     "status": "completed"
    },
    "tags": []
   },
   "outputs": [],
   "source": [
    "import numpy as np # linear algebra\n",
    "import pandas as pd # data processing, CSV file I/O (e.g. pd.read_csv)\n",
    "\n",
    "import sys\n",
    "import importlib\n",
    "\n",
    "import torch\n",
    "from torch.utils.data import DataLoader\n",
    "from tqdm import tqdm\n",
    "import glob\n",
    "from scipy.special import expit\n",
    "\n",
    "import cv2\n",
    "\n",
    "cv2.setNumThreads(0)\n",
    "\n",
    "from os.path import join\n",
    "\n",
    "import os\n",
    "os.environ[\"CUDA_DEVICE_ORDER\"] = \"PCI_BUS_ID\"\n",
    "os.environ[\"CUDA_VISIBLE_DEVICES\"] = \"0\"\n",
    "\n",
    "\n",
    "if not os.path.exists('tmp'):\n",
    "    os.makedirs('tmp')"
   ]
  },
  {
   "cell_type": "code",
   "execution_count": 8,
   "id": "b745d929",
   "metadata": {
    "ExecuteTime": {
     "end_time": "2023-06-20T21:08:56.446631Z",
     "start_time": "2023-06-20T21:08:56.441131Z"
    },
    "papermill": {
     "duration": 0.018661,
     "end_time": "2022-11-07T13:21:38.657614",
     "exception": false,
     "start_time": "2022-11-07T13:21:38.638953",
     "status": "completed"
    },
    "tags": []
   },
   "outputs": [],
   "source": [
    "sys.path.append('./rsna2022-codebase/configs')\n",
    "sys.path.append('./rsna2022-codebase/data')\n",
    "sys.path.append('./rsna2022-codebase/models')\n",
    "sys.path.append('./rsna2022-codebase/postprocess')\n",
    "sys.path.append('./rsna2022-stage1-s1b')"
   ]
  },
  {
   "cell_type": "code",
   "execution_count": 9,
   "id": "6397e3eb",
   "metadata": {
    "ExecuteTime": {
     "end_time": "2023-06-20T21:09:22.104133Z",
     "start_time": "2023-06-20T21:09:22.096177Z"
    },
    "papermill": {
     "duration": 0.041366,
     "end_time": "2022-11-07T13:21:38.708135",
     "exception": false,
     "start_time": "2022-11-07T13:21:38.666769",
     "status": "completed"
    },
    "tags": []
   },
   "outputs": [
    {
     "name": "stdout",
     "output_type": "stream",
     "text": [
      "test shape: (5161, 3)\n"
     ]
    }
   ],
   "source": [
    "test_df = pd.read_csv(INPUT_TEST_CSV_FILE)\n",
    "\n",
    "print('test shape:', test_df.shape)"
   ]
  },
  {
   "cell_type": "code",
   "execution_count": null,
   "id": "5c3e82fe",
   "metadata": {
    "ExecuteTime": {
     "end_time": "2023-06-20T21:09:34.912990Z",
     "start_time": "2023-06-20T21:09:34.905679Z"
    },
    "collapsed": false,
    "jupyter": {
     "outputs_hidden": false
    },
    "tags": []
   },
   "outputs": [],
   "source": [
    "test_df.head()"
   ]
  },
  {
   "cell_type": "code",
   "execution_count": 11,
   "id": "31ee3e1a",
   "metadata": {
    "ExecuteTime": {
     "end_time": "2023-06-20T21:09:48.532172Z",
     "start_time": "2023-06-20T21:09:48.527033Z"
    },
    "papermill": {
     "duration": 0.060965,
     "end_time": "2022-11-07T13:21:38.779263",
     "exception": false,
     "start_time": "2022-11-07T13:21:38.718298",
     "status": "completed"
    },
    "tags": []
   },
   "outputs": [],
   "source": [
    "if len(test_df)==3:\n",
    "    # Fix mismatch with test_images folder\n",
    "    test_df = pd.DataFrame(columns = ['row_id','StudyInstanceUID','prediction_type'])\n",
    "    for i in ['1.2.826.0.1.3680043.22327','1.2.826.0.1.3680043.25399','1.2.826.0.1.3680043.5876']:\n",
    "        for j in ['C1','C2','C3','C4','C5','C6','C7','patient_overall']:\n",
    "            test_df = test_df.append({'row_id':i+'_'+j,'StudyInstanceUID':i,'prediction_type':j},ignore_index=True)\n",
    "\n",
    "    IS_PUBLIC = True\n",
    "else:\n",
    "    IS_PUBLIC = False"
   ]
  },
  {
   "cell_type": "code",
   "execution_count": 12,
   "id": "95ca65b3",
   "metadata": {
    "ExecuteTime": {
     "end_time": "2023-06-20T21:14:32.280496Z",
     "start_time": "2023-06-20T21:14:32.278583Z"
    },
    "papermill": {
     "duration": 0.034836,
     "end_time": "2022-11-07T13:21:38.823777",
     "exception": false,
     "start_time": "2022-11-07T13:21:38.788941",
     "status": "completed"
    },
    "tags": []
   },
   "outputs": [],
   "source": [
    "# means = train_df[[\n",
    "#     \"C1\",\n",
    "#     \"C2\",\n",
    "#     \"C3\",\n",
    "#     \"C4\",\n",
    "#     \"C5\",\n",
    "#     \"C6\",\n",
    "#     \"C7\",\n",
    "#     \"patient_overall\"\n",
    "# ]].mean(numeric_only=True)\n",
    "means = [0.072313, 0.141159, 0.036157, 0.053492, 0.080238, 0.137197, 0.194651, 0.475978]"
   ]
  },
  {
   "cell_type": "code",
   "execution_count": null,
   "id": "41e7786d",
   "metadata": {
    "ExecuteTime": {
     "end_time": "2023-06-20T21:14:34.359905Z",
     "start_time": "2023-06-20T21:14:34.356935Z"
    },
    "papermill": {
     "duration": 0.025414,
     "end_time": "2022-11-07T13:21:38.858410",
     "exception": false,
     "start_time": "2022-11-07T13:21:38.832996",
     "status": "completed"
    },
    "tags": []
   },
   "outputs": [],
   "source": [
    "test_df.head(10)"
   ]
  },
  {
   "cell_type": "code",
   "execution_count": 14,
   "id": "95674422",
   "metadata": {
    "ExecuteTime": {
     "end_time": "2023-06-20T21:14:42.307645Z",
     "start_time": "2023-06-20T21:14:42.294834Z"
    },
    "papermill": {
     "duration": 6.187985,
     "end_time": "2022-11-07T13:21:45.056036",
     "exception": false,
     "start_time": "2022-11-07T13:21:38.868051",
     "status": "completed"
    },
    "tags": []
   },
   "outputs": [],
   "source": [
    "images = []\n",
    "study_ids = []\n",
    "frame_ids = []\n",
    "\n",
    "for index, row in test_df.iterrows():\n",
    "    folder = row['image_folder']\n",
    "    uid = row['StudyInstanceUID']\n",
    "    \n",
    "    files = [x for x in glob.glob(f\"{folder}/*.d*\")]\n",
    "    images += files\n",
    "    frame_ids += [int(re.findall(r'(\\d+).d', x)[0]) for x in files]\n",
    "    study_ids += [uid] * len(files)\n",
    "\n",
    "df = pd.DataFrame({\n",
    "    \"Image\": images,\n",
    "    \"StudyInstanceUID\": study_ids,\n",
    "    \"frame\": frame_ids\n",
    "}).sort_values([\"StudyInstanceUID\", \"frame\"]).reset_index(drop=True)\n",
    "\n",
    "df[['label_frac_c1', 'label_frac_c2', 'label_frac_c3', 'label_frac_c4','label_frac_c5', 'label_frac_c6', 'label_frac_c7']] = 0\n",
    "df[['label_vert_c1', 'label_vert_c2', 'label_vert_c3', 'label_vert_c4','label_vert_c5', 'label_vert_c6', 'label_vert_c7']] = 0"
   ]
  },
  {
   "cell_type": "code",
   "execution_count": 15,
   "id": "378e21f6-05a0-44d3-9f48-f219b3f7f558",
   "metadata": {
    "tags": []
   },
   "outputs": [
    {
     "data": {
      "text/plain": [
       "(1662687, 17)"
      ]
     },
     "execution_count": 15,
     "metadata": {},
     "output_type": "execute_result"
    }
   ],
   "source": [
    "df.shape"
   ]
  },
  {
   "cell_type": "code",
   "execution_count": null,
   "id": "17e3b87e",
   "metadata": {
    "ExecuteTime": {
     "end_time": "2023-06-20T21:14:43.718549Z",
     "start_time": "2023-06-20T21:14:43.715276Z"
    },
    "papermill": {
     "duration": 0.026786,
     "end_time": "2022-11-07T13:21:45.092505",
     "exception": false,
     "start_time": "2022-11-07T13:21:45.065719",
     "status": "completed"
    },
    "tags": []
   },
   "outputs": [],
   "source": [
    "df.head()"
   ]
  },
  {
   "cell_type": "code",
   "execution_count": 17,
   "id": "cb6de5f0",
   "metadata": {
    "ExecuteTime": {
     "end_time": "2023-06-20T21:14:58.335217Z",
     "start_time": "2023-06-20T21:14:58.329299Z"
    },
    "papermill": {
     "duration": 0.017595,
     "end_time": "2022-11-07T13:21:45.119587",
     "exception": false,
     "start_time": "2022-11-07T13:21:45.101992",
     "status": "completed"
    },
    "tags": []
   },
   "outputs": [
    {
     "data": {
      "text/plain": [
       "1662687"
      ]
     },
     "execution_count": 17,
     "metadata": {},
     "output_type": "execute_result"
    }
   ],
   "source": [
    "len(df)"
   ]
  },
  {
   "cell_type": "code",
   "execution_count": 18,
   "id": "d0dc06ac",
   "metadata": {
    "ExecuteTime": {
     "end_time": "2023-06-20T21:31:18.781152Z",
     "start_time": "2023-06-20T21:31:18.777343Z"
    },
    "papermill": {
     "duration": 0.02276,
     "end_time": "2022-11-07T13:21:45.151826",
     "exception": false,
     "start_time": "2022-11-07T13:21:45.129066",
     "status": "completed"
    },
    "tags": []
   },
   "outputs": [],
   "source": [
    "def load_seg_model(cfg_name, model_name):\n",
    "    cfg = importlib.import_module(cfg_name)\n",
    "    importlib.reload(cfg)\n",
    "    cfg = cfg.cfg\n",
    "    #print(cfg)\n",
    "    print(cfg.model, cfg.dataset, cfg.backbone, cfg.image_width, cfg.image_height)\n",
    "    \n",
    "    cfg.mixed_precision = False\n",
    "\n",
    "    ds = importlib.import_module(cfg.dataset)\n",
    "    importlib.reload(ds)\n",
    "    CustomDataset = ds.CustomDataset\n",
    "    # collate_fn = importlib.import_module(cfg.dataset).collate_fn\n",
    "    batch_to_device = ds.batch_to_device\n",
    "\n",
    "    cfg.post_process_pipeline = importlib.import_module(cfg.post_process_pipeline).post_process_pipeline\n",
    "\n",
    "    m = importlib.import_module(cfg.model)\n",
    "    importlib.reload(m)\n",
    "    Net = m.Net\n",
    "\n",
    "    # test settings\n",
    "    cfg.data_folder = IMAGE_DATA_FOLDER\n",
    "    cfg.test_data_folder = IMAGE_DATA_FOLDER\n",
    "    cfg.data_dir = PROJECT_FOLDER\n",
    "    cfg.pretrained = False\n",
    "    cfg.device=\"cuda\" if torch.cuda.is_available() else \"cpu\"\n",
    "    cfg.return_logits = True\n",
    "\n",
    "    cfg.calc_loss = False\n",
    "\n",
    "    state_dicts = []\n",
    "    for filepath in glob.iglob(f'./{model_name}/*.pth'):\n",
    "\n",
    "        state_dicts.append(filepath)\n",
    "        break\n",
    "    print(state_dicts)\n",
    "\n",
    "    nets = []\n",
    "    for i in range(len(state_dicts)):\n",
    "        d = torch.load(state_dicts[i], map_location=\"cpu\")['model']\n",
    "        new_d = {}\n",
    "        for k,v in d.items():\n",
    "            new_d[k.replace(\"module.\", \"\")] = v\n",
    "        sd = new_d\n",
    "\n",
    "        net = Net(cfg).eval().to(cfg.device)\n",
    "        net.load_state_dict(sd)\n",
    "\n",
    "        nets.append(net)\n",
    "    \n",
    "    print(\"-------------\")\n",
    "    return nets, cfg, CustomDataset, batch_to_device"
   ]
  },
  {
   "cell_type": "code",
   "execution_count": 19,
   "id": "e5129fa7",
   "metadata": {
    "ExecuteTime": {
     "end_time": "2023-06-20T21:34:11.685523Z",
     "start_time": "2023-06-20T21:34:11.682333Z"
    },
    "papermill": {
     "duration": 0.022284,
     "end_time": "2022-11-07T13:21:45.183966",
     "exception": false,
     "start_time": "2022-11-07T13:21:45.161682",
     "status": "completed"
    },
    "tags": []
   },
   "outputs": [],
   "source": [
    "def load_model(cfg_name, model_name):\n",
    "    cfg = importlib.import_module(cfg_name)\n",
    "    importlib.reload(cfg)\n",
    "    cfg = cfg.cfg\n",
    "    print(cfg.model, cfg.dataset, cfg.backbone, cfg.image_width, cfg.image_height, cfg.frames_step_size)\n",
    "    \n",
    "    cfg.mixed_precision = False\n",
    "\n",
    "    ds = importlib.import_module(cfg.dataset)\n",
    "    importlib.reload(ds)\n",
    "    CustomDataset = ds.CustomDataset\n",
    "    batch_to_device = ds.batch_to_device\n",
    "\n",
    "    cfg.post_process_pipeline = importlib.import_module(cfg.post_process_pipeline).post_process_pipeline\n",
    "\n",
    "    m = importlib.import_module(cfg.model)\n",
    "    importlib.reload(m)\n",
    "    Net = m.Net\n",
    "\n",
    "    # test settings\n",
    "    cfg.data_folder = IMAGE_DATA_FOLDER\n",
    "    cfg.test_data_folder = IMAGE_DATA_FOLDER\n",
    "    cfg.data_dir = PROJECT_FOLDER\n",
    "    cfg.pretrained = False\n",
    "    cfg.device=\"cuda\" if torch.cuda.is_available() else \"cpu\"\n",
    "    cfg.box_3d = 'crop_box_3d.csv'\n",
    "    cfg.return_logits = True\n",
    "    cfg.calc_loss = False\n",
    "\n",
    "    state_dicts = []\n",
    "    for filepath in glob.iglob(f'./{model_name}/*.pth'):\n",
    "\n",
    "        state_dicts.append(filepath)\n",
    "        break\n",
    "    print(state_dicts)\n",
    "\n",
    "    nets = []\n",
    "    for i in range(len(state_dicts)):\n",
    "        d = torch.load(state_dicts[i], map_location=\"cpu\")['model']\n",
    "        new_d = {}\n",
    "        for k,v in d.items():\n",
    "            new_d[k.replace(\"module.\", \"\")] = v\n",
    "        sd = new_d\n",
    "\n",
    "        net = Net(cfg).eval().to(cfg.device)\n",
    "        net.load_state_dict(sd)\n",
    "\n",
    "        nets.append(net)\n",
    "    \n",
    "    print(\"-------------\")\n",
    "    return nets, cfg, CustomDataset, batch_to_device"
   ]
  },
  {
   "cell_type": "code",
   "execution_count": null,
   "id": "67208bc6",
   "metadata": {
    "ExecuteTime": {
     "end_time": "2023-06-20T21:31:21.309596Z",
     "start_time": "2023-06-20T21:31:21.055515Z"
    },
    "papermill": {
     "duration": 5.841082,
     "end_time": "2022-11-07T13:21:51.034523",
     "exception": false,
     "start_time": "2022-11-07T13:21:45.193441",
     "status": "completed"
    },
    "tags": []
   },
   "outputs": [],
   "source": [
    "net, cfg, CustomDataset, batch_to_device = load_seg_model('stage1_S1B','rsna2022-stage1-s1b')"
   ]
  },
  {
   "cell_type": "code",
   "execution_count": 21,
   "id": "3985c927",
   "metadata": {
    "ExecuteTime": {
     "end_time": "2023-06-20T21:31:22.231611Z",
     "start_time": "2023-06-20T21:31:22.227636Z"
    },
    "papermill": {
     "duration": 0.02177,
     "end_time": "2022-11-07T13:21:51.066733",
     "exception": false,
     "start_time": "2022-11-07T13:21:51.044963",
     "status": "completed"
    },
    "tags": []
   },
   "outputs": [],
   "source": [
    "df[['C1', 'C2', 'C3', 'C4', 'C5', 'C6', 'C7']] = 0 "
   ]
  },
  {
   "cell_type": "code",
   "execution_count": 22,
   "id": "43446948",
   "metadata": {
    "ExecuteTime": {
     "end_time": "2023-06-20T21:31:22.652019Z",
     "start_time": "2023-06-20T21:31:22.648499Z"
    },
    "papermill": {
     "duration": 0.017582,
     "end_time": "2022-11-07T13:21:51.094128",
     "exception": false,
     "start_time": "2022-11-07T13:21:51.076546",
     "status": "completed"
    },
    "tags": []
   },
   "outputs": [],
   "source": [
    "cfg.batch_size = 64\n",
    "cfg.cache_size = 200\n",
    "cfg.cache_disk = \"\""
   ]
  },
  {
   "cell_type": "code",
   "execution_count": 23,
   "id": "1fb5ba43",
   "metadata": {
    "ExecuteTime": {
     "end_time": "2023-06-20T21:31:22.908762Z",
     "start_time": "2023-06-20T21:31:22.906167Z"
    },
    "papermill": {
     "duration": 0.017942,
     "end_time": "2022-11-07T13:21:51.121767",
     "exception": false,
     "start_time": "2022-11-07T13:21:51.103825",
     "status": "completed"
    },
    "tags": []
   },
   "outputs": [],
   "source": [
    "from torchvision.ops import masks_to_boxes\n",
    "import pydicom"
   ]
  },
  {
   "cell_type": "code",
   "execution_count": null,
   "id": "0ac1ac2c",
   "metadata": {
    "ExecuteTime": {
     "end_time": "2023-06-20T21:32:00.376800Z",
     "start_time": "2023-06-20T21:31:23.424282Z"
    },
    "papermill": {
     "duration": 22.90188,
     "end_time": "2022-11-07T13:22:14.033309",
     "exception": false,
     "start_time": "2022-11-07T13:21:51.131429",
     "status": "completed"
    },
    "tags": []
   },
   "outputs": [
    {
     "name": "stderr",
     "output_type": "stream",
     "text": [
      " 73%|███████▎  | 19081/25980 [2:22:04<46:17,  2.48it/s]  "
     ]
    }
   ],
   "source": [
    "boxes = []\n",
    "with torch.inference_mode():\n",
    "    \n",
    "    test_ds = CustomDataset(df, cfg, cfg.val_aug, mode=\"test\")\n",
    "    test_dl = DataLoader(test_ds, shuffle=False, batch_size = cfg.batch_size, num_workers = 2)\n",
    "    \n",
    "    for batch in tqdm(test_dl):\n",
    "        batch = batch_to_device(batch, cfg.device)\n",
    "        out = net[0](batch)\n",
    "        pred = (out['logits'].sigmoid().max(1)[0] > 0.5).long()\n",
    "        box = torch.zeros((pred.shape[0],4))\n",
    "        \n",
    "        not_empty = pred.sum((1,2))>10\n",
    "        b = masks_to_boxes(pred[not_empty])\n",
    "        box[not_empty] = b.cpu()\n",
    "        boxes += [box]\n",
    "boxes = torch.cat(boxes)"
   ]
  },
  {
   "cell_type": "code",
   "execution_count": null,
   "id": "7bdbb53b",
   "metadata": {
    "ExecuteTime": {
     "end_time": "2023-06-20T21:32:00.383433Z",
     "start_time": "2023-06-20T21:32:00.380156Z"
    },
    "papermill": {
     "duration": 0.035851,
     "end_time": "2022-11-07T13:22:14.088055",
     "exception": false,
     "start_time": "2022-11-07T13:22:14.052204",
     "status": "completed"
    },
    "tags": []
   },
   "outputs": [],
   "source": [
    "box_preds = df[['StudyInstanceUID']].copy()\n",
    "box_preds[['x1','y1','x2','y2']] = boxes.numpy()"
   ]
  },
  {
   "cell_type": "code",
   "execution_count": null,
   "id": "d4deb3c3",
   "metadata": {
    "ExecuteTime": {
     "end_time": "2023-06-20T21:27:50.991533Z",
     "start_time": "2023-06-20T21:27:50.979544Z"
    },
    "papermill": {
     "duration": 0.070805,
     "end_time": "2022-11-07T13:22:14.176880",
     "exception": false,
     "start_time": "2022-11-07T13:22:14.106075",
     "status": "completed"
    },
    "tags": []
   },
   "outputs": [],
   "source": [
    "#need original img shape to scale boxes to fit original image shape\n",
    "\n",
    "def get_dicom_meta(path):\n",
    "    \"\"\"\n",
    "    This supports loading both regular and compressed JPEG images. \n",
    "    See the first sell with `pip install` commands for the necessary dependencies\n",
    "    \"\"\"\n",
    "    img=pydicom.dcmread(path)\n",
    "    img.PhotometricInterpretation = 'YBR_FULL'\n",
    "    shape = img.pixel_array.shape\n",
    "    \n",
    "    return shape\n",
    "\n",
    "meta = df[['Image','StudyInstanceUID']].drop_duplicates('StudyInstanceUID')\n",
    "img_fns = [fn for fn in meta['Image'].values]\n",
    "shapes = [get_dicom_meta(p) for p in img_fns]\n",
    "meta[['ImageHeight','ImageWidth']] = shapes\n",
    "\n",
    "scales = meta[['StudyInstanceUID','ImageHeight','ImageWidth']].drop_duplicates().set_index('StudyInstanceUID').to_dict()"
   ]
  },
  {
   "cell_type": "code",
   "execution_count": null,
   "id": "57f74b7c",
   "metadata": {
    "ExecuteTime": {
     "end_time": "2023-06-20T21:27:51.736071Z",
     "start_time": "2023-06-20T21:27:51.730722Z"
    },
    "papermill": {
     "duration": 0.064862,
     "end_time": "2022-11-07T13:22:14.275310",
     "exception": false,
     "start_time": "2022-11-07T13:22:14.210448",
     "status": "completed"
    },
    "tags": []
   },
   "outputs": [],
   "source": [
    "image_width = 320\n",
    "image_height = 320\n",
    "\n",
    "image_width_orig = 360\n",
    "image_height_orig = 360\n",
    "\n",
    "pad_ = (image_height_orig - image_height) // 2\n",
    "\n",
    "def get_box(study_id):\n",
    "    df = box_preds[box_preds['StudyInstanceUID']==study_id].copy()\n",
    "    raw_boxes = df[['x1','y1','x2','y2']].values\n",
    "    df['area'] = (raw_boxes[:,2]-raw_boxes[:,0])*(raw_boxes[:,3]-raw_boxes[:,1])\n",
    "    raw_boxes2 = raw_boxes[((raw_boxes[:,2]-raw_boxes[:,0])*(raw_boxes[:,3]-raw_boxes[:,1]))>9]\n",
    "    raw_boxes2 = raw_boxes2 + pad_\n",
    "    \n",
    "    x_scale = scales['ImageWidth'][study_id] / image_width_orig\n",
    "    y_scale = scales['ImageHeight'][study_id] / image_height_orig\n",
    "    \n",
    "    try:\n",
    "        x1y1 = np.quantile(raw_boxes2[:,:2],0.05,axis=0)\n",
    "        x2y2 = np.quantile(raw_boxes2[:,2:],0.95,axis=0)\n",
    "        z1 = np.quantile(np.where(df['area'].values > 0)[0],0.05)\n",
    "        z2 = np.quantile(np.where(df['area'].values > 0)[0],0.95)\n",
    "\n",
    "        box = np.array([x_scale*x1y1[0],x_scale*x2y2[0],y_scale*x1y1[1],y_scale*x2y2[1],z1,z2])\n",
    "    except:\n",
    "        print(study_id)\n",
    "        box = np.array([0,0,0,0,0,0])\n",
    "    return box"
   ]
  },
  {
   "cell_type": "code",
   "execution_count": null,
   "id": "a3ad7907",
   "metadata": {
    "ExecuteTime": {
     "end_time": "2023-06-20T21:27:53.537702Z",
     "start_time": "2023-06-20T21:27:53.522353Z"
    },
    "papermill": {
     "duration": 0.064498,
     "end_time": "2022-11-07T13:22:14.369250",
     "exception": false,
     "start_time": "2022-11-07T13:22:14.304752",
     "status": "completed"
    },
    "tags": []
   },
   "outputs": [],
   "source": [
    "boxes = [get_box(study_id) for study_id in tqdm(meta['StudyInstanceUID'].values)]\n",
    "meta[['x1','x2','y1','y2','z1','z2']] = boxes\n",
    "meta.to_csv('crop_box_3d.csv',index=False)"
   ]
  },
  {
   "cell_type": "code",
   "execution_count": null,
   "id": "71418371-6497-4951-bbed-8e892b4a067e",
   "metadata": {
    "tags": []
   },
   "outputs": [],
   "source": [
    "meta = pd.read_csv('crop_box_3d.csv')"
   ]
  },
  {
   "cell_type": "code",
   "execution_count": null,
   "id": "8b5561d4",
   "metadata": {
    "ExecuteTime": {
     "end_time": "2023-06-20T21:34:39.781349Z",
     "start_time": "2023-06-20T21:34:39.490637Z"
    },
    "papermill": {
     "duration": 1.182727,
     "end_time": "2022-11-07T13:22:15.569798",
     "exception": false,
     "start_time": "2022-11-07T13:22:14.387071",
     "status": "completed"
    },
    "tags": []
   },
   "outputs": [],
   "source": [
    "nets = []\n",
    "net, cfg, CustomDataset, batch_to_device = load_model(\"stage2_cfg_ch_11_fix\", \"rsna2022-stage2-cfg-ch-11\")\n",
    "nets += net"
   ]
  },
  {
   "cell_type": "code",
   "execution_count": null,
   "id": "e54f7aa0",
   "metadata": {
    "ExecuteTime": {
     "end_time": "2023-06-20T21:35:19.716365Z",
     "start_time": "2023-06-20T21:34:44.763562Z"
    },
    "papermill": {
     "duration": 33.118953,
     "end_time": "2022-11-07T13:22:48.700571",
     "exception": false,
     "start_time": "2022-11-07T13:22:15.581618",
     "status": "completed"
    },
    "tags": []
   },
   "outputs": [],
   "source": [
    "cfg.batch_size = 64\n",
    "cfg.cache_size = 200\n",
    "cfg.cache_disk = \"\"\n",
    "\n",
    "with torch.inference_mode():\n",
    "\n",
    "    test_ds = CustomDataset(df, cfg, cfg.val_aug, mode=\"test\")\n",
    "    test_dl = DataLoader(test_ds, shuffle=False, batch_size = cfg.batch_size, num_workers = 2)\n",
    "\n",
    "    fold_preds0 = [[] for i in range(len(nets))]\n",
    "    for batch in tqdm(test_dl):\n",
    "        batch = batch_to_device(batch, cfg.device)\n",
    "        for i, net in enumerate(nets):\n",
    "            logits = net(batch)['logits'].float().detach().cpu().numpy()\n",
    "\n",
    "            fold_preds0[i] += [logits]"
   ]
  },
  {
   "cell_type": "code",
   "execution_count": null,
   "id": "9eec5040",
   "metadata": {
    "ExecuteTime": {
     "end_time": "2023-06-20T21:47:39.992639Z",
     "start_time": "2023-06-20T21:47:39.988706Z"
    },
    "papermill": {
     "duration": 0.022222,
     "end_time": "2022-11-07T13:22:48.736285",
     "exception": false,
     "start_time": "2022-11-07T13:22:48.714063",
     "status": "completed"
    },
    "tags": []
   },
   "outputs": [],
   "source": [
    "fold_preds0 = [np.concatenate(p, axis=0) for p in fold_preds0]"
   ]
  },
  {
   "cell_type": "code",
   "execution_count": null,
   "id": "3349b0bf",
   "metadata": {
    "ExecuteTime": {
     "end_time": "2023-06-20T21:47:40.891747Z",
     "start_time": "2023-06-20T21:47:40.881563Z"
    },
    "papermill": {
     "duration": 0.023322,
     "end_time": "2022-11-07T13:22:48.772402",
     "exception": false,
     "start_time": "2022-11-07T13:22:48.749080",
     "status": "completed"
    },
    "tags": []
   },
   "outputs": [],
   "source": [
    "len(fold_preds0[0])"
   ]
  },
  {
   "cell_type": "code",
   "execution_count": null,
   "id": "9e2f2d71",
   "metadata": {
    "ExecuteTime": {
     "end_time": "2023-06-20T21:47:44.337503Z",
     "start_time": "2023-06-20T21:47:42.646821Z"
    },
    "papermill": {
     "duration": 4.892746,
     "end_time": "2022-11-07T13:22:53.677649",
     "exception": false,
     "start_time": "2022-11-07T13:22:48.784903",
     "status": "completed"
    },
    "tags": []
   },
   "outputs": [],
   "source": [
    "nets = []\n",
    "net, cfg, CustomDataset, batch_to_device = load_model(\"stage2_cfg_ps_wd_29_val\", \"stage2-cfg-ps-wd-29-ff\")\n",
    "nets += net\n",
    "net, cfg, CustomDataset, batch_to_device = load_model(\"stage2_cfg_ps_wd_30_val\", \"stage2-cfg-ps-wd-30-ff\")\n",
    "nets += net\n",
    "net, cfg, CustomDataset, batch_to_device = load_model(\"stage2_cfg_ps_wd_37_val\", \"stage2-cfg-ps-wd-37-ff\")\n",
    "nets += net\n",
    "net, cfg, CustomDataset, batch_to_device = load_model(\"stage2_cfg_ps_wd_40_val\", \"stage2-cfg-ps-wd-40-ff\")\n",
    "nets += net"
   ]
  },
  {
   "cell_type": "code",
   "execution_count": null,
   "id": "5b9cb2d3",
   "metadata": {
    "ExecuteTime": {
     "end_time": "2023-06-20T21:47:46.898067Z",
     "start_time": "2023-06-20T21:47:46.895485Z"
    },
    "papermill": {
     "duration": 0.025808,
     "end_time": "2022-11-07T13:22:53.719243",
     "exception": false,
     "start_time": "2022-11-07T13:22:53.693435",
     "status": "completed"
    },
    "tags": []
   },
   "outputs": [],
   "source": [
    "len(nets)"
   ]
  },
  {
   "cell_type": "code",
   "execution_count": null,
   "id": "0c2761b7",
   "metadata": {
    "ExecuteTime": {
     "end_time": "2023-06-20T21:51:30.579261Z",
     "start_time": "2023-06-20T21:47:48.502445Z"
    },
    "papermill": {
     "duration": 61.090685,
     "end_time": "2022-11-07T13:23:54.822931",
     "exception": false,
     "start_time": "2022-11-07T13:22:53.732246",
     "status": "completed"
    },
    "tags": []
   },
   "outputs": [],
   "source": [
    "cfg.batch_size = 64\n",
    "cfg.cache_size = 200\n",
    "cfg.cache_disk = \"\"\n",
    "\n",
    "with torch.inference_mode():\n",
    "\n",
    "    test_ds = CustomDataset(df, cfg, cfg.val_aug, mode=\"test\")\n",
    "    test_dl = DataLoader(test_ds, shuffle=False, batch_size = cfg.batch_size, num_workers = 2)\n",
    "\n",
    "    fold_preds = [[] for i in range(len(nets))]\n",
    "    for batch in tqdm(test_dl):\n",
    "        batch = batch_to_device(batch, cfg.device)\n",
    "        for i, net in enumerate(nets):\n",
    "            logits = net(batch)['logits'].float().detach().cpu().numpy()\n",
    "\n",
    "            fold_preds[i] += [logits]"
   ]
  },
  {
   "cell_type": "code",
   "execution_count": null,
   "id": "806f9ad0",
   "metadata": {
    "ExecuteTime": {
     "end_time": "2023-06-20T21:55:08.031015Z",
     "start_time": "2023-06-20T21:55:08.022221Z"
    },
    "papermill": {
     "duration": 0.024962,
     "end_time": "2022-11-07T13:23:54.862812",
     "exception": false,
     "start_time": "2022-11-07T13:23:54.837850",
     "status": "completed"
    },
    "tags": []
   },
   "outputs": [],
   "source": [
    "assert (len(nets) == len(fold_preds))"
   ]
  },
  {
   "cell_type": "code",
   "execution_count": null,
   "id": "7f54e2fb",
   "metadata": {
    "ExecuteTime": {
     "end_time": "2023-06-20T21:55:08.887934Z",
     "start_time": "2023-06-20T21:55:08.876541Z"
    },
    "papermill": {
     "duration": 0.02316,
     "end_time": "2022-11-07T13:23:54.900661",
     "exception": false,
     "start_time": "2022-11-07T13:23:54.877501",
     "status": "completed"
    },
    "tags": []
   },
   "outputs": [],
   "source": [
    "fold_preds = [np.concatenate(p, axis=0) for p in fold_preds]"
   ]
  },
  {
   "cell_type": "code",
   "execution_count": null,
   "id": "2cec2b16",
   "metadata": {
    "ExecuteTime": {
     "end_time": "2023-06-20T21:55:10.092762Z",
     "start_time": "2023-06-20T21:55:10.090385Z"
    },
    "papermill": {
     "duration": 0.022633,
     "end_time": "2022-11-07T13:23:54.938185",
     "exception": false,
     "start_time": "2022-11-07T13:23:54.915552",
     "status": "completed"
    },
    "tags": []
   },
   "outputs": [],
   "source": [
    "assert (len(fold_preds[0]) == len(df))"
   ]
  },
  {
   "cell_type": "code",
   "execution_count": null,
   "id": "bf2022f9",
   "metadata": {
    "ExecuteTime": {
     "end_time": "2023-06-20T21:55:10.728402Z",
     "start_time": "2023-06-20T21:55:10.726311Z"
    },
    "papermill": {
     "duration": 0.024979,
     "end_time": "2022-11-07T13:23:54.977538",
     "exception": false,
     "start_time": "2022-11-07T13:23:54.952559",
     "status": "completed"
    },
    "tags": []
   },
   "outputs": [],
   "source": [
    "fold_preds = fold_preds0 + fold_preds0 + fold_preds\n",
    "len(fold_preds)"
   ]
  },
  {
   "cell_type": "code",
   "execution_count": null,
   "id": "20a105d2",
   "metadata": {
    "ExecuteTime": {
     "end_time": "2023-06-20T21:55:11.410630Z",
     "start_time": "2023-06-20T21:55:11.401676Z"
    },
    "papermill": {
     "duration": 0.024789,
     "end_time": "2022-11-07T13:23:55.016826",
     "exception": false,
     "start_time": "2022-11-07T13:23:54.992037",
     "status": "completed"
    },
    "tags": []
   },
   "outputs": [],
   "source": [
    "preds = expit(np.mean(fold_preds, axis=0))"
   ]
  },
  {
   "cell_type": "code",
   "execution_count": null,
   "id": "b36322c7",
   "metadata": {
    "ExecuteTime": {
     "end_time": "2023-06-20T21:55:11.929730Z",
     "start_time": "2023-06-20T21:55:11.924225Z"
    },
    "papermill": {
     "duration": 0.02882,
     "end_time": "2022-11-07T13:23:55.061635",
     "exception": false,
     "start_time": "2022-11-07T13:23:55.032815",
     "status": "completed"
    },
    "tags": []
   },
   "outputs": [],
   "source": [
    "def post_process_pipeline(cfg, val_data, val_df):\n",
    "\n",
    "    preds = val_data\n",
    "    \n",
    "    pred_cols = [\n",
    "        \"C1\",\n",
    "        \"C2\",\n",
    "        \"C3\",\n",
    "        \"C4\",\n",
    "        \"C5\",\n",
    "        \"C6\",\n",
    "        \"C7\",\n",
    "    ]\n",
    "\n",
    "    val_df[\n",
    "        pred_cols\n",
    "    ] = preds\n",
    "\n",
    "    window_size = 15\n",
    "\n",
    "    uids = val_df['StudyInstanceUID'].unique()\n",
    "\n",
    "    for c in  [\n",
    "        pred_cols\n",
    "    ]:\n",
    "        val_df[c] = val_df.groupby(\"StudyInstanceUID\")[c].rolling(window_size).mean().reset_index(0,drop=True)\n",
    "\n",
    "    \n",
    "        \n",
    "    preds = (\n",
    "        val_df.groupby(\"StudyInstanceUID\")[\n",
    "            pred_cols\n",
    "        ]\n",
    "        .max()\n",
    "        .reset_index()\n",
    "    )\n",
    "    preds[\"patient_overall\"] = 1 - (\n",
    "        (1 - preds[\"C1\"])\n",
    "        * (1 - preds[\"C2\"])\n",
    "        * (1 - preds[\"C3\"])\n",
    "        * (1 - preds[\"C4\"])\n",
    "        * (1 - preds[\"C5\"])\n",
    "        * (1 - preds[\"C6\"])\n",
    "        * (1 - preds[\"C7\"])\n",
    "    )\n",
    "    \n",
    "    pred_cols += [\"patient_overall\"]\n",
    "\n",
    "    for vert in range(8):\n",
    "        preds[pred_cols].values[:, vert] = np.clip((preds[pred_cols].values[:, vert] / preds[pred_cols].values[:, vert].mean())* 2* means[vert]/ (1 + means[vert]),\n",
    "            0.01,\n",
    "            0.99,\n",
    "        )\n",
    "\n",
    "    return preds"
   ]
  },
  {
   "cell_type": "code",
   "execution_count": null,
   "id": "04957b44",
   "metadata": {
    "ExecuteTime": {
     "end_time": "2023-06-20T21:55:13.219831Z",
     "start_time": "2023-06-20T21:55:13.200169Z"
    },
    "papermill": {
     "duration": 0.061153,
     "end_time": "2022-11-07T13:23:55.137640",
     "exception": false,
     "start_time": "2022-11-07T13:23:55.076487",
     "status": "completed"
    },
    "tags": []
   },
   "outputs": [],
   "source": [
    "preds_pp = post_process_pipeline(cfg, preds, df)"
   ]
  },
  {
   "cell_type": "code",
   "execution_count": null,
   "id": "38d881a1",
   "metadata": {
    "ExecuteTime": {
     "end_time": "2023-06-20T21:55:13.984356Z",
     "start_time": "2023-06-20T21:55:13.973680Z"
    },
    "papermill": {
     "duration": 0.031313,
     "end_time": "2022-11-07T13:23:55.185585",
     "exception": false,
     "start_time": "2022-11-07T13:23:55.154272",
     "status": "completed"
    },
    "tags": []
   },
   "outputs": [],
   "source": [
    "preds_pp.to_csv(\"7th_base_pred.csv\")"
   ]
  },
  {
   "cell_type": "code",
   "execution_count": null,
   "id": "4452d6c6",
   "metadata": {
    "ExecuteTime": {
     "end_time": "2023-06-20T22:04:55.713871Z",
     "start_time": "2023-06-20T22:04:23.661193Z"
    },
    "papermill": {
     "duration": 0.91433,
     "end_time": "2022-11-07T13:23:56.115014",
     "exception": false,
     "start_time": "2022-11-07T13:23:55.200684",
     "status": "completed"
    },
    "tags": []
   },
   "outputs": [],
   "source": [
    "import torch.nn as nn\n",
    "\n",
    "from torch.utils.data import Dataset, DataLoader\n",
    "import torch\n",
    "import collections\n",
    "\n",
    "from dataset import RSNAStackerDataset\n",
    "\n",
    "pred_cols = [\n",
    "    \"pred_frac_c1\",\n",
    "    \"pred_frac_c2\",\n",
    "    \"pred_frac_c3\",\n",
    "    \"pred_frac_c4\",\n",
    "    \"pred_frac_c5\",\n",
    "    \"pred_frac_c6\",\n",
    "    \"pred_frac_c7\",\n",
    "]\n",
    "label_cols = [\n",
    "    \"label_frac_c1\",\n",
    "    \"label_frac_c2\",\n",
    "    \"label_frac_c3\",\n",
    "    \"label_frac_c4\",\n",
    "    \"label_frac_c5\",\n",
    "    \"label_frac_c6\",\n",
    "    \"label_frac_c7\",\n",
    "]\n",
    "\n",
    "class RSNAStackerModel(nn.Module):\n",
    "    def __init__(self, n_features):\n",
    "        super(RSNAStackerModel, self).__init__()\n",
    "        \n",
    "        self.sizes = [256, 128, 64]\n",
    "        \n",
    "        self.features = nn.Sequential(\n",
    "            nn.Linear(n_features, self.sizes[0]),\n",
    "            nn.PReLU(),\n",
    "            nn.Linear(self.sizes[0], self.sizes[1]),\n",
    "            nn.PReLU(),\n",
    "            nn.Linear(self.sizes[1], self.sizes[2]),\n",
    "            nn.PReLU(),\n",
    "            nn.BatchNorm1d(self.sizes[-1]),\n",
    "            nn.Dropout(0.2)\n",
    "        )\n",
    "        self.head = nn.Linear(self.sizes[-1], 8)\n",
    "\n",
    "    def forward(self, x, y):\n",
    "        \n",
    "        x = self.features(x)\n",
    "        x = self.head(x)\n",
    "        \n",
    "        \n",
    "        output = {}\n",
    "        \n",
    "        output[\"logits\"] = x\n",
    "\n",
    "        return output\n",
    "\n",
    "def run_nn_stacker(exp_name, df, BS=64):\n",
    "\n",
    "\n",
    "    ds = RSNAStackerDataset(df.iloc[:].copy(), mode=\"test\")\n",
    "    \n",
    "    checkpoints = glob.glob(f\"./{exp_name}/*.pth\")\n",
    "    \n",
    "    preds_all = []\n",
    "    for checkpoint in checkpoints:\n",
    "        print(f\"running model {checkpoint}\")\n",
    "        \n",
    "        model = RSNAStackerModel(n_features=ds.X.shape[1]).to(\"cpu\").eval()\n",
    "    \n",
    "        model_weights = torch.load(checkpoint, map_location=\"cpu\")\n",
    "\n",
    "        model.load_state_dict(collections.OrderedDict(model_weights), strict=True)\n",
    "        \n",
    "        del model_weights\n",
    "    \n",
    "        batch_size = BS\n",
    "        dl = DataLoader(ds, shuffle=False, batch_size = batch_size, num_workers = 2)\n",
    "\n",
    "        with torch.no_grad():\n",
    "            preds = []\n",
    "            for batch in tqdm(dl):\n",
    "\n",
    "                data = [x.to(\"cpu\") for x in batch]\n",
    "                inputs, target = data\n",
    "                out = model(inputs, target)\n",
    "                preds.append(out[\"logits\"].float().sigmoid().detach().cpu().numpy())\n",
    "\n",
    "        preds_all.append(np.concatenate(preds, axis=0))\n",
    "        \n",
    "        del model\n",
    "        del dl\n",
    "        \n",
    "    del ds\n",
    "    \n",
    "    \n",
    "    preds = np.mean(preds_all, axis=0)\n",
    "    \n",
    "    return preds\n",
    "\n",
    "df[pred_cols] = preds\n",
    "\n",
    "df[label_cols] = 0\n",
    "\n",
    "nn_stacker_preds = run_nn_stacker(\"./final-nn-v0-ff\", df, BS=64)"
   ]
  },
  {
   "cell_type": "code",
   "execution_count": null,
   "id": "0e5f88b4",
   "metadata": {
    "ExecuteTime": {
     "end_time": "2023-06-20T22:05:06.712472Z",
     "start_time": "2023-06-20T22:05:06.705967Z"
    },
    "papermill": {
     "duration": 0.026919,
     "end_time": "2022-11-07T13:23:56.158987",
     "exception": false,
     "start_time": "2022-11-07T13:23:56.132068",
     "status": "completed"
    },
    "tags": []
   },
   "outputs": [],
   "source": [
    "nn_stacker_preds.shape"
   ]
  },
  {
   "cell_type": "code",
   "execution_count": null,
   "id": "d652008e",
   "metadata": {
    "ExecuteTime": {
     "end_time": "2023-06-20T22:05:08.528201Z",
     "start_time": "2023-06-20T22:05:08.519887Z"
    },
    "papermill": {
     "duration": 0.028769,
     "end_time": "2022-11-07T13:23:56.203926",
     "exception": false,
     "start_time": "2022-11-07T13:23:56.175157",
     "status": "completed"
    },
    "tags": []
   },
   "outputs": [],
   "source": [
    "preds = preds_pp.copy()\n",
    "\n",
    "pred_cols = [\n",
    "    \"C1\",\n",
    "    \"C2\",\n",
    "    \"C3\",\n",
    "    \"C4\",\n",
    "    \"C5\",\n",
    "    \"C6\",\n",
    "    \"C7\",\n",
    "    \"patient_overall\"\n",
    "]\n",
    "\n",
    "preds[pred_cols] = 0.7*nn_stacker_preds + 0.3*preds[pred_cols]"
   ]
  },
  {
   "cell_type": "code",
   "execution_count": null,
   "id": "a276f0ce",
   "metadata": {
    "ExecuteTime": {
     "end_time": "2023-06-20T22:05:09.940497Z",
     "start_time": "2023-06-20T22:05:09.934626Z"
    },
    "papermill": {
     "duration": 0.035275,
     "end_time": "2022-11-07T13:23:56.256340",
     "exception": false,
     "start_time": "2022-11-07T13:23:56.221065",
     "status": "completed"
    },
    "tags": []
   },
   "outputs": [],
   "source": [
    "preds.head()"
   ]
  },
  {
   "cell_type": "code",
   "execution_count": null,
   "id": "04676620",
   "metadata": {
    "ExecuteTime": {
     "end_time": "2023-06-20T22:05:13.503325Z",
     "start_time": "2023-06-20T22:05:13.494792Z"
    },
    "papermill": {
     "duration": 0.027097,
     "end_time": "2022-11-07T13:23:56.300241",
     "exception": false,
     "start_time": "2022-11-07T13:23:56.273144",
     "status": "completed"
    },
    "tags": []
   },
   "outputs": [],
   "source": [
    "row_ids = []\n",
    "fractured = []\n",
    "for idx,row in preds.iterrows():\n",
    "    for c in pred_cols:\n",
    "        row_ids.append(row.StudyInstanceUID+\"_\"+c)\n",
    "        fractured.append(row[c])\n",
    "        \n",
    "sub_df = pd.DataFrame({\n",
    "    \"row_id\": row_ids,\n",
    "    \"fractured\": fractured\n",
    "})"
   ]
  },
  {
   "cell_type": "code",
   "execution_count": null,
   "id": "9fa2cb9d",
   "metadata": {
    "ExecuteTime": {
     "end_time": "2023-06-20T22:05:14.539649Z",
     "start_time": "2023-06-20T22:05:14.532032Z"
    },
    "papermill": {
     "duration": 0.02616,
     "end_time": "2022-11-07T13:23:56.343242",
     "exception": false,
     "start_time": "2022-11-07T13:23:56.317082",
     "status": "completed"
    },
    "tags": []
   },
   "outputs": [],
   "source": [
    "sub_df.to_csv(OUTPUT_FILE, index=False)"
   ]
  },
  {
   "cell_type": "code",
   "execution_count": null,
   "id": "4d9903ff",
   "metadata": {
    "ExecuteTime": {
     "end_time": "2023-06-20T22:05:16.442011Z",
     "start_time": "2023-06-20T22:05:16.433613Z"
    },
    "papermill": {
     "duration": 0.030423,
     "end_time": "2022-11-07T13:23:56.390035",
     "exception": false,
     "start_time": "2022-11-07T13:23:56.359612",
     "status": "completed"
    },
    "tags": []
   },
   "outputs": [],
   "source": [
    "sub_df"
   ]
  },
  {
   "cell_type": "code",
   "execution_count": null,
   "id": "cf292c54",
   "metadata": {
    "papermill": {
     "duration": 0.016197,
     "end_time": "2022-11-07T13:23:56.423135",
     "exception": false,
     "start_time": "2022-11-07T13:23:56.406938",
     "status": "completed"
    },
    "tags": []
   },
   "outputs": [],
   "source": []
  }
 ],
 "metadata": {
  "kernelspec": {
   "display_name": "cp39env",
   "language": "python",
   "name": "cp39env"
  },
  "language_info": {
   "codemirror_mode": {
    "name": "ipython",
    "version": 3
   },
   "file_extension": ".py",
   "mimetype": "text/x-python",
   "name": "python",
   "nbconvert_exporter": "python",
   "pygments_lexer": "ipython3",
   "version": "3.9.18"
  },
  "papermill": {
   "default_parameters": {},
   "duration": 258.408302,
   "end_time": "2022-11-07T13:23:58.808343",
   "environment_variables": {},
   "exception": null,
   "input_path": "__notebook__.ipynb",
   "output_path": "__notebook__.ipynb",
   "parameters": {},
   "start_time": "2022-11-07T13:19:40.400041",
   "version": "2.3.4"
  }
 },
 "nbformat": 4,
 "nbformat_minor": 5
}
